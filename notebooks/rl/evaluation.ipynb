{
 "cells": [
  {
   "cell_type": "code",
   "execution_count": null,
   "id": "697e4c2b",
   "metadata": {},
   "outputs": [],
   "source": [
    "import pandas as pd\n",
    "import numpy as np\n",
    "from mqt.predictor import rl\n",
    "df = pd.read_csv(rl.helper.get_path_trained_model() / 'res.csv', sep=',')"
   ]
  },
  {
   "cell_type": "code",
   "execution_count": null,
   "id": "8d9a093d",
   "metadata": {},
   "outputs": [],
   "source": [
    "df[\"x_data\"]=(df[\"Benchmark\"]+ \"_\"+ df[\"Qubits\"].astype(str)).astype(\"category\")\n",
    "df.sort_values(by=[\"Benchmark\", \"Qubits\"], inplace=True)"
   ]
  },
  {
   "cell_type": "code",
   "execution_count": null,
   "id": "ab0daf50",
   "metadata": {},
   "outputs": [],
   "source": [
    "df[\"RL-Qiskit Fid\"]=df[\"RL Fid\"]-df[\"Qiskit O3 Fid\"]\n",
    "df[\"RL-TKET Fid\"]=df[\"RL Fid\"]-df[\"TKET Fid\"]\n",
    "df[\"RL-Qiskit Crit Depth\"]=df[\"RL Crit Depth\"]-df[\"Qiskit O3 Crit Depth\"]\n",
    "df[\"RL-TKET Crit Depth\"]=df[\"RL Crit Depth\"]-df[\"TKET Crit Depth\"]\n",
    "df[\"RL-Qiskit Parallelism\"]=df[\"RL Parallelism\"]-df[\"Qiskit O3 Parallelism\"]\n",
    "df[\"RL-TKET Parallelism\"]=df[\"RL Parallelism\"]-df[\"TKET Parallelism\"]"
   ]
  },
  {
   "cell_type": "code",
   "execution_count": null,
   "id": "c5cd9290",
   "metadata": {},
   "outputs": [],
   "source": [
    "color_qiskit = \"#994F00\"\n",
    "color_TKET = \"#006CD1\"\n",
    "size = 14\n",
    "legendsize = 12\n",
    "max_val_bench = max([df.groupby([\"Benchmark\"])[\"RL-Qiskit Fid\"].mean().max(), \n",
    "                     df.groupby([\"Benchmark\"])[\"RL-TKET Fid\"].mean().max(), \n",
    "                     df.groupby([\"Benchmark\"])[\"RL-Qiskit Crit Depth\"].mean().max(), \n",
    "                     df.groupby([\"Benchmark\"])[\"RL-TKET Crit Depth\"].mean().max(),\n",
    "                     df.groupby([\"Benchmark\"])[\"RL-Qiskit Parallelism\"].mean().max(), \n",
    "                     df.groupby([\"Benchmark\"])[\"RL-TKET Parallelism\"].mean().max()])\n",
    "min_value_bench = min(df.groupby([\"Benchmark\"])[\"RL-Qiskit Fid\"].mean().min(),\n",
    "                      df.groupby([\"Benchmark\"])[\"RL-TKET Fid\"].mean().min(), \n",
    "                      df.groupby([\"Benchmark\"])[\"RL-Qiskit Crit Depth\"].mean().min(), \n",
    "                      df.groupby([\"Benchmark\"])[\"RL-TKET Crit Depth\"].mean().min(), \n",
    "                      df.groupby([\"Benchmark\"])[\"RL-Qiskit Parallelism\"].mean().min(), \n",
    "                      df.groupby([\"Benchmark\"])[\"RL-TKET Parallelism\"].mean().min())"
   ]
  },
  {
   "cell_type": "code",
   "execution_count": null,
   "id": "7f0d828d",
   "metadata": {},
   "outputs": [],
   "source": [
    "df[\"RL-Qiskit Fid\"][df[\"RL-Qiskit Fid\"] > 0.0 ].count()/len(df)"
   ]
  },
  {
   "cell_type": "code",
   "execution_count": null,
   "id": "afe491b9",
   "metadata": {},
   "outputs": [],
   "source": [
    "df[\"RL-TKET Fid\"][df[\"RL-TKET Fid\"] > 0.0 ].count()/len(df)"
   ]
  },
  {
   "cell_type": "code",
   "execution_count": null,
   "id": "8e85c37c",
   "metadata": {},
   "outputs": [],
   "source": [
    "df[\"RL-Qiskit Parallelism\"][df[\"RL-Qiskit Parallelism\"] > 0.0 ].count()/len(df)"
   ]
  },
  {
   "cell_type": "code",
   "execution_count": null,
   "id": "1cf25e42",
   "metadata": {},
   "outputs": [],
   "source": [
    "df[\"RL-TKET Parallelism\"][df[\"RL-TKET Parallelism\"] > 0.0 ].count()/len(df)"
   ]
  },
  {
   "cell_type": "code",
   "execution_count": null,
   "id": "b49bf4e4",
   "metadata": {},
   "outputs": [],
   "source": [
    "df[\"RL-Qiskit Crit Depth\"][df[\"RL-Qiskit Crit Depth\"] > 0.0 ].count()/len(df)"
   ]
  },
  {
   "cell_type": "code",
   "execution_count": null,
   "id": "f9984f15",
   "metadata": {},
   "outputs": [],
   "source": [
    "df[\"RL-TKET Crit Depth\"][df[\"RL-TKET Crit Depth\"] > 0.0 ].count()/len(df)"
   ]
  },
  {
   "cell_type": "code",
   "execution_count": null,
   "id": "0a5eccd5",
   "metadata": {},
   "outputs": [],
   "source": [
    "print(min_value_bench, max_val_bench)"
   ]
  },
  {
   "cell_type": "code",
   "execution_count": null,
   "id": "c41eb1a7",
   "metadata": {},
   "outputs": [],
   "source": [
    "ax = df[\"RL-Qiskit Fid\"].hist(bins=40, alpha=0.5, color=color_qiskit, weights=np.ones(len(df[\"RL-Qiskit Fid\"])) / len(df[\"RL-Qiskit Fid\"]), xlabelsize=size, ylabelsize=size)\n",
    "df[\"RL-TKET Fid\"].hist(bins=40, ax=ax, alpha=0.5, color=color_TKET, grid=False, weights=np.ones(len(df[\"RL-TKET Fid\"])) / len(df[\"RL-TKET Fid\"]))\n",
    "ax.set_ylabel(\"Relative frequency\", size=size)\n",
    "ax.set_xlabel(\"Absolute reward  difference\", size=size)\n",
    "max_val = max([df[\"RL-Qiskit Fid\"].max(), df[\"RL-TKET Fid\"].max(), -df[\"RL-Qiskit Fid\"].min(), -df[\"RL-TKET Fid\"].min()])\n",
    "ax.set_xlim(-max_val-(max_val)/10, max_val+(max_val)/10)\n",
    "ax.legend([\"compared to Qiskit\", \"compared to TKET\"], fontsize=legendsize, loc='upper right')\n",
    "ax.axvline(x=0, color= 'black', linewidth=1).get_figure().savefig('results/fid_hist.pdf', bbox_inches='tight')"
   ]
  },
  {
   "cell_type": "code",
   "execution_count": null,
   "id": "97a0c23a",
   "metadata": {},
   "outputs": [],
   "source": [
    "ax = df.groupby([\"Benchmark\"])[\"RL-Qiskit Fid\"].mean().plot(kind=\"bar\", color=color_qiskit, alpha=0.5)\n",
    "df.groupby([\"Benchmark\"])[\"RL-TKET Fid\"].mean().plot(kind=\"bar\", ax=ax, color=color_TKET, alpha=0.5)\n",
    "ax.set_ylabel(\"Average reward difference\", size=size)\n",
    "ax.set_xlabel(\"Benchmark\", size=size)\n",
    "ax.tick_params(axis='x', which='both', labelsize=size)\n",
    "ax.legend([\"compared to Qiskit\", \"compared to TKET\"], fontsize=legendsize, loc='upper right')\n",
    "ax.set_ylim(min_value_bench-0.01, max_val_bench+0.01)\n",
    "ax.tick_params(axis='both', labelsize=size)\n",
    "ax.axhline(y=0, color= 'black', linewidth=1).get_figure().savefig('results/fid_bench.pdf', bbox_inches='tight')"
   ]
  },
  {
   "cell_type": "code",
   "execution_count": null,
   "id": "14834d01",
   "metadata": {},
   "outputs": [],
   "source": [
    "print(df[\"RL-Qiskit Fid\"].mean(), df[\"RL-TKET Fid\"].mean())"
   ]
  },
  {
   "cell_type": "code",
   "execution_count": null,
   "id": "5c04800c",
   "metadata": {},
   "outputs": [],
   "source": [
    "ax = df[\"RL-Qiskit Parallelism\"].hist(bins=40, alpha=0.5, color=color_qiskit, weights=np.ones(len(df[\"RL-Qiskit Parallelism\"])) / len(df[\"RL-Qiskit Parallelism\"]), xlabelsize=size, ylabelsize=size)\n",
    "df[\"RL-TKET Parallelism\"].hist(bins=40, ax=ax, alpha=0.5, color=color_TKET, grid=False, weights=np.ones(len(df[\"RL-TKET Parallelism\"])) / len(df[\"RL-TKET Parallelism\"]))\n",
    "ax.set_ylabel(\"Relative frequency\", size=size)\n",
    "ax.set_xlabel(\"Absolute reward difference\", size=size)\n",
    "max_val = max([df[\"RL-Qiskit Parallelism\"].max(), df[\"RL-TKET Parallelism\"].max(), -df[\"RL-Qiskit Parallelism\"].min(), -df[\"RL-TKET Parallelism\"].min()])\n",
    "ax.set_xlim(-max_val-(max_val)/10, max_val+(max_val)/10)\n",
    "ax.legend([\"compared to Qiskit\", \"compared to TKET\"], fontsize=legendsize, loc='upper right')\n",
    "ax.axvline(x=0, color= 'black', linewidth=1).get_figure().savefig('results/par_hist.pdf', bbox_inches='tight')"
   ]
  },
  {
   "cell_type": "code",
   "execution_count": null,
   "id": "b9dbe323",
   "metadata": {},
   "outputs": [],
   "source": [
    "ax = df.groupby([\"Benchmark\"])[\"RL-Qiskit Parallelism\"].mean().plot(kind=\"bar\", color=color_qiskit, alpha=0.5)\n",
    "df.groupby([\"Benchmark\"])[\"RL-TKET Parallelism\"].mean().plot(kind=\"bar\", ax=ax, color=color_TKET, alpha=0.5)\n",
    "ax.set_ylabel(\"Average reward difference\", size=size)\n",
    "ax.set_xlabel(\"Benchmark\", size=size)\n",
    "ax.tick_params(axis='x', which='both', labelsize=size)\n",
    "ax.set_ylim(min_value_bench-0.01, max_val_bench+0.01)\n",
    "ax.tick_params(axis='both', labelsize=size)\n",
    "ax.legend([\"compared to Qiskit\", \"compared to TKET\"], fontsize=legendsize, loc='upper right')\n",
    "ax.axhline(y=0, color= 'black', linewidth=1).get_figure().savefig('results/par_bench.pdf', bbox_inches='tight')"
   ]
  },
  {
   "cell_type": "code",
   "execution_count": null,
   "id": "43016d5f",
   "metadata": {},
   "outputs": [],
   "source": [
    "print(df[\"RL-Qiskit Parallelism\"].mean(), df[\"RL-TKET Parallelism\"].mean())"
   ]
  },
  {
   "cell_type": "code",
   "execution_count": null,
   "id": "c592106d",
   "metadata": {},
   "outputs": [],
   "source": [
    "ax = df[\"RL-Qiskit Crit Depth\"].hist(bins=40, alpha=0.5, color=color_qiskit, weights=np.ones(len(df[\"RL-Qiskit Crit Depth\"])) / len(df[\"RL-Qiskit Crit Depth\"]), xlabelsize=size, ylabelsize=size)\n",
    "df[\"RL-TKET Crit Depth\"].hist(bins=40, ax=ax, alpha=0.5, grid=False, color=color_TKET, weights=np.ones(len(df[\"RL-TKET Crit Depth\"])) / len(df[\"RL-TKET Crit Depth\"]))\n",
    "ax.set_ylabel(\"Relative frequency\", size=size)\n",
    "ax.set_xlabel(\"Absolute reward difference\", size=size)\n",
    "max_val = max([df[\"RL-Qiskit Crit Depth\"].max(), df[\"RL-TKET Crit Depth\"].max(), -df[\"RL-Qiskit Crit Depth\"].min(), -df[\"RL-TKET Crit Depth\"].min()])\n",
    "ax.set_xlim(-max_val-(max_val)/10, max_val+(max_val)/10)\n",
    "ax.legend([\"compared to Qiskit\", \"compared to TKET\"], fontsize=legendsize, loc='upper right')\n",
    "ax.axvline(x=0, color= 'black', linewidth=1).get_figure().savefig('results/depth_hist.pdf', bbox_inches='tight')"
   ]
  },
  {
   "cell_type": "code",
   "execution_count": null,
   "id": "8db7d93e",
   "metadata": {},
   "outputs": [],
   "source": [
    "ax = df.groupby([\"Benchmark\"])[\"RL-Qiskit Crit Depth\"].mean().plot(kind=\"bar\", color=color_qiskit, alpha=0.5)\n",
    "df.groupby([\"Benchmark\"])[\"RL-TKET Crit Depth\"].mean().plot(kind=\"bar\", ax=ax, color=color_TKET, alpha=0.5)\n",
    "ax.set_ylabel(\"Average reward difference\", size=size)\n",
    "ax.set_xlabel(\"Benchmark\", size=size)\n",
    "ax.tick_params(axis='x', which='both', labelsize=size)\n",
    "ax.set_ylim(min_value_bench-0.01, max_val_bench+0.01)\n",
    "ax.tick_params(axis='both', labelsize=size)\n",
    "ax.legend([\"compared to Qiskit\", \"compared to TKET\"], fontsize=legendsize, loc='upper right')\n",
    "ax.axhline(y=0, color= 'black', linewidth=1).get_figure().savefig('results/depth_bench.pdf', bbox_inches='tight')"
   ]
  },
  {
   "cell_type": "code",
   "execution_count": null,
   "id": "e7b043b4",
   "metadata": {},
   "outputs": [],
   "source": [
    "print(df[\"RL-Qiskit Crit Depth\"].mean(), df[\"RL-TKET Crit Depth\"].mean())"
   ]
  },
  {
   "cell_type": "markdown",
   "id": "c8f5de1c",
   "metadata": {},
   "source": [
    "# Comparing Execution Time (Run Time)"
   ]
  },
  {
   "cell_type": "code",
   "execution_count": null,
   "id": "adcd68a4",
   "metadata": {},
   "outputs": [],
   "source": [
    "df[[\"Qiskit O3 Time\", \"TKET Time\", \"RL Fid Time\", \"RL Parallelism Time\", \"RL Crit Depth Time\",]]"
   ]
  },
  {
   "cell_type": "code",
   "execution_count": null,
   "id": "cb40bd6e",
   "metadata": {},
   "outputs": [],
   "source": [
    "(df[\"RL Fid Time\"]/df[\"Qiskit O3 Time\"]).mean()"
   ]
  },
  {
   "cell_type": "markdown",
   "id": "5cd42294",
   "metadata": {},
   "source": [
    "# 3x3 Matrix With Mean Result and RL Optimization Criterion"
   ]
  },
  {
   "cell_type": "code",
   "execution_count": null,
   "id": "6a887a2c",
   "metadata": {},
   "outputs": [],
   "source": [
    "RL_fid = [df[\"RL Fid\"].mean(), df[\"RL Fid Parallelism\"].mean(), df[\"RL Fid Crit Depth\"].mean()]\n",
    "RL_par = [df[\"RL Parallelism Fid\"].mean(),df[\"RL Parallelism\"].mean(),df[\"RL Parallelism Crit Depth\"].mean()]\n",
    "RL_dep = [ df[\"RL Crit Depth Fid\"].mean(),df[\"RL Crit Depth Parallelism\"].mean(), df[\"RL Crit Depth\"].mean()]"
   ]
  },
  {
   "cell_type": "code",
   "execution_count": null,
   "id": "90af00e1",
   "metadata": {},
   "outputs": [],
   "source": [
    "print(np.round(RL_fid,2))\n",
    "print(np.round(RL_par,2))\n",
    "print(np.round(RL_dep,2))"
   ]
  }
 ],
 "metadata": {
  "kernelspec": {
   "display_name": "Python 3 (ipykernel)",
   "language": "python",
   "name": "python3"
  },
  "language_info": {
   "codemirror_mode": {
    "name": "ipython",
    "version": 3
   },
   "file_extension": ".py",
   "mimetype": "text/x-python",
   "name": "python",
   "nbconvert_exporter": "python",
   "pygments_lexer": "ipython3"
  }
 },
 "nbformat": 4,
 "nbformat_minor": 5
}
