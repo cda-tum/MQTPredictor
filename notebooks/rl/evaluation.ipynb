{
 "cells": [
  {
   "cell_type": "code",
   "execution_count": null,
   "id": "697e4c2b",
   "metadata": {},
   "outputs": [],
   "source": [
    "import pandas as pd\n",
    "import numpy as np\n",
    "from mqt.predictor import rl, ml\n",
    "df = pd.read_csv(ml.helper.get_path_trained_model() / 'res.csv', sep=',')"
   ]
  },
  {
   "cell_type": "code",
   "execution_count": null,
   "id": "79bcd9f3-f467-49cb-88c2-628051f74d58",
   "metadata": {},
   "outputs": [],
   "source": [
    "df"
   ]
  },
  {
   "cell_type": "code",
   "execution_count": null,
   "id": "9fd90126-234c-4ed7-9be3-c738e00adb1d",
   "metadata": {},
   "outputs": [],
   "source": [
    "num_bins = 60\n",
    "color_qiskit = \"#440154\"\n",
    "color_TKET = \"#21918c\"\n",
    "size = 14\n",
    "legendsize = 12"
   ]
  },
  {
   "cell_type": "code",
   "execution_count": null,
   "id": "1b55d3d2-84f2-44e1-ae19-542ac4cb00bb",
   "metadata": {},
   "outputs": [],
   "source": [
    "df[\"MQT-Qiskit_Fid\"]=df[\"MQTPredictor_fidelity_fidelity\"]-df[\"qiskit_o3_fidelity\"]\n",
    "df[\"MQT-TKET_Fid\"]=df[\"MQTPredictor_fidelity_fidelity\"]-df[\"tket_fidelity\"]"
   ]
  },
  {
   "cell_type": "code",
   "execution_count": null,
   "id": "90b60b02-e35a-4a03-a24c-45b8d63797e8",
   "metadata": {},
   "outputs": [],
   "source": [
    "df[\"MQT-Qiskit_Fid\"][df[\"MQT-Qiskit_Fid\"] > 0.0 ].count()/len(df)"
   ]
  },
  {
   "cell_type": "code",
   "execution_count": null,
   "id": "cd83df8f-e825-4c12-b9c2-3f57fede22e3",
   "metadata": {},
   "outputs": [],
   "source": [
    "df[\"MQT-TKET_Fid\"][df[\"MQT-TKET_Fid\"] > 0.0 ].count()/len(df)"
   ]
  },
  {
   "cell_type": "code",
   "execution_count": null,
   "id": "ab0daf50",
   "metadata": {},
   "outputs": [],
   "source": [
    "df[\"MQT-Qiskit_Fid\"]=df[\"MQT_fidelity_fidelity\"]-df[\"qiskit_o3_fidelity\"]\n",
    "df[\"MQT-TKET_Fid\"]=df[\"MQT_fidelity_fidelity\"]-df[\"tket_fidelity\"]\n",
    "df[\"MQT-Qiskit_Crit_Depth\"]=df[\"MQT_critical_depth_critical_depth\"]-df[\"qiskit_o3_critical_depth\"]\n",
    "df[\"MQT-TKET_Crit_Depth\"]=df[\"MQT_critical_depth_critical_depth\"]-df[\"tket_critical_depth\"]"
   ]
  },
  {
   "cell_type": "code",
   "execution_count": null,
   "id": "c5cd9290",
   "metadata": {},
   "outputs": [],
   "source": [
    "\n",
    "max_val_bench = max([df.groupby([\"benchmark\"])[\"MQT-Qiskit_Fid\"].mean().max(), \n",
    "                     df.groupby([\"benchmark\"])[\"MQT-TKET_Fid\"].mean().max(), \n",
    "                     df.groupby([\"benchmark\"])[\"MQT-Qiskit_Crit_Depth\"].mean().max(), \n",
    "                     df.groupby([\"benchmark\"])[\"MQT-TKET_Crit_Depth\"].mean().max()\n",
    "                    ]\n",
    "                     )\n",
    "min_value_bench = min([df.groupby([\"benchmark\"])[\"MQT-Qiskit_Fid\"].mean().min(),\n",
    "                      df.groupby([\"benchmark\"])[\"MQT-TKET_Fid\"].mean().min(), \n",
    "                      df.groupby([\"benchmark\"])[\"MQT-Qiskit_Crit_Depth\"].mean().min(), \n",
    "                      df.groupby([\"benchmark\"])[\"MQT-TKET_Crit_Depth\"].mean().min()])"
   ]
  },
  {
   "cell_type": "code",
   "execution_count": null,
   "id": "4c33ca40",
   "metadata": {},
   "outputs": [],
   "source": [
    "df.columns"
   ]
  },
  {
   "cell_type": "code",
   "execution_count": null,
   "id": "7f0d828d",
   "metadata": {},
   "outputs": [],
   "source": [
    "df[\"MQT-Qiskit_Fid\"][df[\"MQT-Qiskit_Fid\"] > 0.0 ].count()/len(df)"
   ]
  },
  {
   "cell_type": "code",
   "execution_count": null,
   "id": "afe491b9",
   "metadata": {},
   "outputs": [],
   "source": [
    "df[\"MQT-TKET_Fid\"][df[\"MQT-TKET_Fid\"] > 0.0 ].count()/len(df)"
   ]
  },
  {
   "cell_type": "code",
   "execution_count": null,
   "id": "b49bf4e4",
   "metadata": {},
   "outputs": [],
   "source": [
    "df[\"MQT-Qiskit_Crit_Depth\"][df[\"MQT-Qiskit_Crit_Depth\"] > 0.0 ].count()/len(df)"
   ]
  },
  {
   "cell_type": "code",
   "execution_count": null,
   "id": "f9984f15",
   "metadata": {},
   "outputs": [],
   "source": [
    "df[\"MQT-TKET_Crit_Depth\"][df[\"MQT-TKET_Crit_Depth\"] > 0.0 ].count()/len(df)"
   ]
  },
  {
   "cell_type": "markdown",
   "id": "8f00cd6f",
   "metadata": {},
   "source": [
    "# Expected Fidelity"
   ]
  },
  {
   "cell_type": "code",
   "execution_count": null,
   "id": "c41eb1a7",
   "metadata": {},
   "outputs": [],
   "source": [
    "max_val = max([df[\"MQT-Qiskit_Fid\"].max(), df[\"MQT-TKET_Fid\"].max(), -df[\"MQT-Qiskit_Fid\"].min(), -df[\"MQT-TKET_Fid\"].min()])\n",
    "xrange = (-max_val-(max_val)/10, max_val+(max_val)/10)\n",
    "ax = df[\"MQT-Qiskit_Fid\"].hist(bins=num_bins, alpha=0.5, range=xrange, color=color_qiskit, weights=np.ones(len(df[\"MQT-Qiskit_Fid\"])) / len(df[\"MQT-Qiskit_Fid\"]), xlabelsize=size, ylabelsize=size)\n",
    "df[\"MQT-TKET_Fid\"].hist(bins=num_bins, ax=ax, alpha=0.5, range=xrange, color=color_TKET, grid=False, weights=np.ones(len(df[\"MQT-TKET_Fid\"])) / len(df[\"MQT-TKET_Fid\"]))\n",
    "ax.set_ylabel(\"Relative frequency\", size=size)\n",
    "ax.set_xlabel(\"Absolute reward  difference\", size=size)\n",
    "ax.legend([\"compared to Qiskit\", \"compared to TKET\"], fontsize=legendsize, loc='upper right')\n",
    "ax.axvline(x=0, color= 'black', linewidth=1).get_figure().savefig('results/fidelity_hist.pdf', bbox_inches='tight')"
   ]
  },
  {
   "cell_type": "code",
   "execution_count": null,
   "id": "97a0c23a",
   "metadata": {},
   "outputs": [],
   "source": [
    "ax = df.groupby([\"benchmark\"])[\"MQT-Qiskit_Fid\"].mean().plot(kind=\"bar\", color=color_qiskit, alpha=0.5)\n",
    "df.groupby([\"benchmark\"])[\"MQT-TKET_Fid\"].mean().plot(kind=\"bar\", ax=ax, color=color_TKET, alpha=0.5)\n",
    "ax.set_ylabel(\"Average reward difference\", size=size)\n",
    "ax.set_xlabel(\"Benchmark\", size=size)\n",
    "ax.tick_params(axis='x', which='both', labelsize=size)\n",
    "ax.legend([\"compared to Qiskit\", \"compared to TKET\"], fontsize=legendsize, loc='upper right')\n",
    "#ax.set_ylim(min_value_bench-0.01, max_val_bench+0.01)\n",
    "ax.tick_params(axis='both', labelsize=size)\n",
    "ax.axhline(y=0, color= 'black', linewidth=1).get_figure().savefig('results/fidelity_bench.pdf', bbox_inches='tight')"
   ]
  },
  {
   "cell_type": "code",
   "execution_count": null,
   "id": "14834d01",
   "metadata": {},
   "outputs": [],
   "source": [
    "print(df[\"MQT-Qiskit_Fid\"].mean(), df[\"MQT-TKET_Fid\"].mean())"
   ]
  },
  {
   "cell_type": "markdown",
   "id": "e5588478",
   "metadata": {},
   "source": [
    "# Critical Depth"
   ]
  },
  {
   "cell_type": "code",
   "execution_count": null,
   "id": "c592106d",
   "metadata": {},
   "outputs": [],
   "source": [
    "max_val = max([df[\"MQT-Qiskit_Crit_Depth\"].max(), df[\"MQT-TKET_Crit_Depth\"].max(), -df[\"MQT-Qiskit_Crit_Depth\"].min(), -df[\"MQT-TKET_Crit_Depth\"].min()])\n",
    "xrange = (-max_val-(max_val)/10, max_val+(max_val)/10)\n",
    "ax = df[\"MQT-Qiskit_Crit_Depth\"].hist(bins=num_bins, alpha=0.5, range=xrange, color=color_qiskit, weights=np.ones(len(df[\"MQT-Qiskit_Crit_Depth\"])) / len(df[\"MQT-Qiskit_Crit_Depth\"]), xlabelsize=size, ylabelsize=size)\n",
    "df[\"MQT-TKET_Crit_Depth\"].hist(bins=num_bins, ax=ax, alpha=0.5, range=xrange, grid=False, color=color_TKET, weights=np.ones(len(df[\"MQT-TKET_Crit_Depth\"])) / len(df[\"MQT-TKET_Crit_Depth\"]))\n",
    "ax.set_ylabel(\"Relative frequency\", size=size)\n",
    "ax.set_xlabel(\"Absolute reward difference\", size=size)\n",
    "ax.legend([\"compared to Qiskit\", \"compared to TKET\"], fontsize=legendsize, loc='upper right')\n",
    "ax.axvline(x=0, color= 'black', linewidth=1).get_figure().savefig('results/critical_depth_hist.pdf', bbox_inches='tight')"
   ]
  },
  {
   "cell_type": "code",
   "execution_count": null,
   "id": "8db7d93e",
   "metadata": {},
   "outputs": [],
   "source": [
    "ax = df.groupby([\"benchmark\"])[\"MQT-Qiskit_Crit_Depth\"].mean().plot(kind=\"bar\", color=color_qiskit, alpha=0.5)\n",
    "df.groupby([\"benchmark\"])[\"MQT-TKET_Crit_Depth\"].mean().plot(kind=\"bar\", ax=ax, color=color_TKET, alpha=0.5)\n",
    "ax.set_ylabel(\"Average reward difference\", size=size)\n",
    "ax.set_xlabel(\"Benchmark\", size=size)\n",
    "ax.tick_params(axis='x', which='both', labelsize=size)\n",
    "ax.set_ylim(min_value_bench-0.01, max_val_bench+0.01)\n",
    "ax.tick_params(axis='both', labelsize=size)\n",
    "ax.legend([\"compared to Qiskit\", \"compared to TKET\"], fontsize=legendsize, loc='upper right')\n",
    "ax.axhline(y=0, color= 'black', linewidth=1).get_figure().savefig('results/critical_depth_bench.pdf', bbox_inches='tight')"
   ]
  },
  {
   "cell_type": "code",
   "execution_count": null,
   "id": "e7b043b4",
   "metadata": {},
   "outputs": [],
   "source": [
    "print(df[\"MQT-Qiskit_Crit_Depth\"].mean(), df[\"MQT-TKET_Crit_Depth\"].mean())"
   ]
  },
  {
   "cell_type": "markdown",
   "id": "5cd42294",
   "metadata": {},
   "source": [
    "# 2x2 Matrix With Mean Results and Optimization Criterion Comparison"
   ]
  },
  {
   "cell_type": "code",
   "execution_count": null,
   "id": "6a887a2c",
   "metadata": {},
   "outputs": [],
   "source": [
    "MQT_fidelity = [df[\"MQT_fidelity_fidelity\"].mean(),  df[\"MQT_fidelity_critical_depth\"].mean()]\n",
    "MQT_critical_depth = [ df[\"MQT_critical_depth_fidelity\"].mean(), df[\"MQT_critical_depth_critical_depth\"].mean()]"
   ]
  },
  {
   "cell_type": "code",
   "execution_count": null,
   "id": "c8d299e2",
   "metadata": {},
   "outputs": [],
   "source": [
    "print(np.round(MQT_fidelity,2))\n",
    "print(np.round(MQT_critical_depth,2))"
   ]
  },
  {
   "cell_type": "code",
   "execution_count": null,
   "id": "8f5f4fa2",
   "metadata": {},
   "outputs": [],
   "source": []
  }
 ],
 "metadata": {
  "kernelspec": {
   "display_name": "Python 3 (ipykernel)",
   "language": "python",
   "name": "python3"
  },
  "language_info": {
   "codemirror_mode": {
    "name": "ipython",
    "version": 3
   },
   "file_extension": ".py",
   "mimetype": "text/x-python",
   "name": "python",
   "nbconvert_exporter": "python",
   "pygments_lexer": "ipython3"
  }
 },
 "nbformat": 4,
 "nbformat_minor": 5
}
