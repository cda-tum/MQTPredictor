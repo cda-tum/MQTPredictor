{
 "cells": [
  {
   "cell_type": "code",
   "execution_count": null,
   "id": "697e4c2b",
   "metadata": {},
   "outputs": [],
   "source": [
    "import pandas as pd\n",
    "import matplotlib.pyplot as plt\n",
    "import matplotlib as mpl\n",
    "import numpy as np\n",
    "from mqt.predictor import rl, ml\n",
    "df = pd.read_csv(ml.helper.get_path_trained_model() / 'res.csv', sep=',')\n",
    "\n",
    "plt.rcParams[\"font.family\"] = \"Times New Roman\"\n",
    "plt.rcParams[\"font.size\"] = 30"
   ]
  },
  {
   "cell_type": "code",
   "execution_count": null,
   "id": "dbe8f0de-82cc-4b48-9ce7-b156e443c15e",
   "metadata": {},
   "outputs": [],
   "source": [
    "df = df[df[\"MQTPredictor_fidelity_fidelity\"] >=0]"
   ]
  },
  {
   "cell_type": "code",
   "execution_count": null,
   "id": "c99bae8f-269e-426f-bc96-56f7cddc6a65",
   "metadata": {},
   "outputs": [],
   "source": [
    "len(df)"
   ]
  },
  {
   "cell_type": "code",
   "execution_count": null,
   "id": "0e1c4cec-897b-4d25-ba0e-ea551ef0c83f",
   "metadata": {},
   "outputs": [],
   "source": [
    "fidelity_cols = df.columns[df.columns.str.endswith('_fidelity')]\n",
    "\n",
    "# Find the column name with the maximum value for each row\n",
    "max_cols = df[fidelity_cols].idxmax(axis=1)\n",
    "\n",
    "# Convert the result to a list\n",
    "max_cols_list = max_cols.tolist()\n",
    "\n",
    "print(set(max_cols_list))"
   ]
  },
  {
   "cell_type": "markdown",
   "id": "7efb6e96-22c3-4739-b480-75d7b9a42785",
   "metadata": {},
   "source": [
    "## Add best datapoints from other compilation flows"
   ]
  },
  {
   "cell_type": "code",
   "execution_count": null,
   "id": "a26c69d1-e8c3-4d50-b669-b761e07d5b63",
   "metadata": {},
   "outputs": [],
   "source": [
    "## Add third highest data point, mean, best and worst"
   ]
  },
  {
   "cell_type": "code",
   "execution_count": null,
   "id": "76d28b11-cf2b-4286-a09a-05098b0cfd84",
   "metadata": {},
   "outputs": [],
   "source": [
    "def calculate_x_highest(row, column_name, index):\n",
    "    columns = [col for col in row.index if col.endswith(column_name) and not \"MQT\" in col]\n",
    "    values = sorted([value for col, value in row[columns].items() if value != -1], reverse=True)\n",
    "    return values[index-1] if len(values) >= 3 else 0\n",
    "\n",
    "def calculate_mean(row, column_name):\n",
    "    columns = [col for col in row.index if col.endswith(column_name) and not \"MQT\" in col]\n",
    "    values = [value for col, value in row[columns].items() if value != -1]\n",
    "    return np.mean(values) if values else None\n",
    "\n",
    "df['fidelity_second_highest'] = df.apply(calculate_x_highest, column_name=\"_fidelity\", index=2, axis=1)\n",
    "df['fidelity_third_highest'] = df.apply(calculate_x_highest, column_name=\"_fidelity\", index=3, axis=1)\n",
    "df['fidelity_mean'] = df.apply(calculate_mean, column_name=\"_fidelity\",axis=1)\n",
    "\n",
    "\n",
    "df['critical_depth_third_highest'] = df.apply(calculate_x_highest, column_name=\"_critical_depth\", index=3,axis=1)\n",
    "df['critical_depth_mean'] = df.apply(calculate_mean, column_name=\"_critical_depth\",axis=1)"
   ]
  },
  {
   "cell_type": "code",
   "execution_count": null,
   "id": "00181293-891f-4d35-9d0b-197ca04c5cd8",
   "metadata": {},
   "outputs": [],
   "source": [
    "df['fidelity_min_other'] = df.apply(lambda row: row[[col for col in row.index if col.endswith('_fidelity') and 'MQT' not in col]].replace(-1, np.nan).min(skipna=True), axis=1)\n",
    "df['fidelity_max_other'] = df.apply(lambda row: row[[col for col in row.index if col.endswith('_fidelity') and 'MQT' not in col]].max(), axis=1)\n",
    "df['critical_depth_min_other'] = df.apply(lambda row: row[[col for col in row.index if col.endswith('_critical_depth') and 'MQT' not in col]].replace(-1, np.nan).min(skipna=True), axis=1)\n",
    "df['critical_depth_max_other'] = df.apply(lambda row: row[[col for col in row.index if col.endswith('_critical_depth') and 'MQT' not in col]].max(), axis=1)\n"
   ]
  },
  {
   "cell_type": "code",
   "execution_count": null,
   "id": "221a7376-c5e1-483d-ba5d-aa476ed55da0",
   "metadata": {},
   "outputs": [],
   "source": [
    "predictor = ml.Predictor()\n",
    "(X_train,\n",
    "X_test,\n",
    "y_train,\n",
    "y_test,\n",
    "indices_train,\n",
    "indices_test,\n",
    "names_list,\n",
    "scores_list) = predictor.get_prepared_training_data(figure_of_merit=\"fidelity\", save_non_zero_indices=True)\n",
    "test_benchmarks_fidelity = [names_list[index_test] for index_test in indices_test]\n",
    "df_filtered_fidelity = df[df[\"file_path\"].isin(test_benchmarks_fidelity)]"
   ]
  },
  {
   "cell_type": "code",
   "execution_count": null,
   "id": "1a83daed-b560-405f-867d-e2b568773b39",
   "metadata": {},
   "outputs": [],
   "source": [
    "len(df_filtered_fidelity)"
   ]
  },
  {
   "cell_type": "code",
   "execution_count": null,
   "id": "74cea6af-5e3d-4350-9e81-004a96cf697e",
   "metadata": {},
   "outputs": [],
   "source": [
    "plot_kind = \"line\"\n",
    "df = df_filtered_fidelity.sort_values(by=['MQTPredictor_fidelity_fidelity'])\n",
    "ax = df.plot(x=\"file_path\", y=\"fidelity_max_other\", label=\"Best\", rot=90, kind=plot_kind, color=\"green\", figsize=(30,10))\n",
    "df.plot(x=\"file_path\", y=\"MQTPredictor_fidelity_fidelity\", label=\"MQT Predictor\", kind=plot_kind, rot=90, ax=ax, color=\"blue\")\n",
    "df.plot(x=\"file_path\", y=\"fidelity_third_highest\", kind=plot_kind, rot=90, ax=ax, color=\"purple\", label=\"3rd Best\")\n",
    "df.plot(x=\"file_path\", y=\"fidelity_mean\", kind=plot_kind, rot=90, ax=ax, color=\"orange\", label=\"Mean\")\n",
    "df.plot(x=\"file_path\", y=\"fidelity_min_other\", label=\"Worst\", rot=90, kind=plot_kind, ax=ax, color=\"red\")\n",
    "\n",
    "if plot_kind == \"line\":\n",
    "    plt.xticks(range(len(df.file_path)), df.file_path)\n",
    "\n",
    "plt.xticks(\n",
    "    list(range(0, len(df.file_path), 1)),\n",
    "    [\"\" for i in range(len(df.file_path))],\n",
    "    fontsize=16,\n",
    ")\n",
    "plt.xlabel(\"Benchmarks\")\n",
    "plt.ylabel(\"Expected Fidelity\")\n",
    "\n",
    "plt.savefig(\"results/fidelity_plot.pdf\", bbox_inches='tight')"
   ]
  },
  {
   "cell_type": "code",
   "execution_count": null,
   "id": "11c66682-f7b6-4b6b-9ec8-35ea240d32c5",
   "metadata": {},
   "outputs": [],
   "source": [
    "predictor = ml.Predictor()\n",
    "(X_train,\n",
    "X_test,\n",
    "y_train,\n",
    "y_test,\n",
    "indices_train,\n",
    "indices_test,\n",
    "names_list,\n",
    "scores_list) = predictor.get_prepared_training_data(figure_of_merit=\"critical_depth\", save_non_zero_indices=True)\n",
    "test_benchmarks_critical_depth = [names_list[index_test] for index_test in indices_test]\n",
    "df_filtered_critical_depth = df[df[\"file_path\"].isin(test_benchmarks_critical_depth)]"
   ]
  },
  {
   "cell_type": "code",
   "execution_count": null,
   "id": "1566bcf3-397e-44ec-88e6-beb159e1b4b2",
   "metadata": {},
   "outputs": [],
   "source": [
    "plot_kind = \"line\"\n",
    "df = df_filtered_critical_depth.sort_values(by=['MQTPredictor_critical_depth_critical_depth'])\n",
    "ax = df.plot(x=\"file_path\", y=\"critical_depth_max_other\", label=\"Best\", rot=90, kind=plot_kind, color=\"green\", figsize=(30,10))\n",
    "df.plot(x=\"file_path\", y=\"MQTPredictor_critical_depth_critical_depth\", kind=plot_kind, rot=90, ax=ax, color=\"blue\", label=\"MQT Predictor\")\n",
    "df.plot(x=\"file_path\", y=\"critical_depth_mean\", kind=plot_kind, rot=90, ax=ax, color=\"orange\", label=\"Mean\")\n",
    "\n",
    "if plot_kind == \"line\":\n",
    "    plt.xticks(range(len(df.file_path)), df.file_path);\n",
    "\n",
    "plt.xticks(\n",
    "    list(range(0, len(df.file_path), 1)),\n",
    "    [\"\" for i in range(len(df.file_path))],\n",
    "    fontsize=16,\n",
    ")\n",
    "plt.xlabel(\"Benchmarks\")\n",
    "plt.ylabel(\"Critical Depth\")\n",
    "\n",
    "plt.savefig(\"results/critical_depth_plot.pdf\", bbox_inches='tight')"
   ]
  },
  {
   "cell_type": "markdown",
   "id": "516da400-0157-4925-8df6-8008beb59487",
   "metadata": {},
   "source": [
    "# New Rankings"
   ]
  },
  {
   "cell_type": "code",
   "execution_count": null,
   "id": "e649aff4-7fb8-457f-9ec8-c1cd97bbc4ea",
   "metadata": {},
   "outputs": [],
   "source": [
    "def bins_labels(bins, **kwargs):\n",
    "    bin_w = (max(bins) - min(bins)) / (len(bins) - 1)\n",
    "    plt.xticks(np.arange(min(bins)+bin_w/2, max(bins), bin_w), bins, **kwargs)\n",
    "    plt.xlim(bins[0], bins[-1])"
   ]
  },
  {
   "cell_type": "code",
   "execution_count": null,
   "id": "3a114c67-fd76-4c92-b320-fdb6e686914e",
   "metadata": {},
   "outputs": [],
   "source": [
    "df['Rank_MQT_fidelity'] = df.apply(lambda row: sum(1 for col in df.columns if col.endswith('_fidelity') and not \"MQT\" in col and row['MQTPredictor_fidelity_fidelity'] >=row[col]), axis=1)\n",
    "df['Rank_MQT_fidelity'] = len([col for col in df.columns if col.endswith('_fidelity') and not \"MQT\" in col]) - df.Rank_MQT_fidelity\n",
    "plt.hist(df.Rank_MQT_fidelity.values, bins=range(0,15,1), align=\"left\", weights=np.ones(len(df)) / len(df))\n",
    "plt.xticks(range(0,14,1));"
   ]
  },
  {
   "cell_type": "code",
   "execution_count": null,
   "id": "18a2c7fe-cf66-481b-8ca4-84811372d959",
   "metadata": {},
   "outputs": [],
   "source": [
    "count_top3 = 0\n",
    "count_top5 = 0\n",
    "for index, row in df.iterrows():\n",
    "    if row['Rank_MQT_fidelity'] in [0, 1, 2]:\n",
    "        count_top3 += 1\n",
    "    if row['Rank_MQT_fidelity'] in [0, 1, 2, 3,4]:\n",
    "        count_top5 += 1\n",
    "\n",
    "# Print the total count\n",
    "print(\"Percentage of Top-3:\", count_top3/len(df))\n",
    "print(\"Percentage of Top-5:\", count_top5/len(df))"
   ]
  },
  {
   "cell_type": "code",
   "execution_count": null,
   "id": "71d74e70-8ec1-4ea6-a770-4726a6a04d6e",
   "metadata": {},
   "outputs": [],
   "source": [
    "df['Rank_MQT_critical_depth'] = df.apply(lambda row: sum(1 for col in df.columns if col.endswith('_critical_depth') and not \"MQT\" in col and row['MQTPredictor_critical_depth_critical_depth'] >= row[col]), axis=1)\n",
    "df['Rank_MQT_critical_depth'] = len([col for col in df.columns if col.endswith('_critical_depth') and not \"MQT\" in col]) - df.Rank_MQT_critical_depth\n",
    "plt.hist(df.Rank_MQT_critical_depth.values, bins=range(0,15,1), align=\"left\", weights=np.ones(len(df)) / len(df))\n",
    "plt.xticks(range(0,14,1));"
   ]
  },
  {
   "cell_type": "code",
   "execution_count": null,
   "id": "6baa9861-4e45-4b1d-86bb-22cfd6b28761",
   "metadata": {},
   "outputs": [],
   "source": [
    "len(df[df['Rank_MQT_critical_depth']==0])"
   ]
  },
  {
   "cell_type": "code",
   "execution_count": null,
   "id": "8370efe4-7039-4563-8f3a-62e3f6eda620",
   "metadata": {},
   "outputs": [],
   "source": [
    "count_top3 = 0\n",
    "count_top5 = 0\n",
    "for index, row in df.iterrows():\n",
    "    if row['Rank_MQT_critical_depth'] in [0, 1, 2]:\n",
    "        count_top3 += 1\n",
    "    if row['Rank_MQT_critical_depth'] in [0, 1, 2, 3,4]:\n",
    "        count_top5 += 1\n",
    "\n",
    "# Print the total count\n",
    "print(\"Percentage of Top-3:\", count_top3/len(df))\n",
    "print(\"Percentage of Top-5:\", count_top5/len(df))"
   ]
  },
  {
   "cell_type": "markdown",
   "id": "8f00cd6f",
   "metadata": {},
   "source": [
    "# Expected Fidelity"
   ]
  },
  {
   "cell_type": "markdown",
   "id": "5cd42294",
   "metadata": {},
   "source": [
    "# 2x2 Matrix With Mean Results and Optimization Criterion Comparison"
   ]
  },
  {
   "cell_type": "code",
   "execution_count": null,
   "id": "6a887a2c",
   "metadata": {},
   "outputs": [],
   "source": [
    "MQT_fidelity = [df[\"MQTPredictor_fidelity_fidelity\"].mean(),  df[\"MQTPredictor_fidelity_critical_depth\"].mean()]\n",
    "MQT_critical_depth = [df[\"MQTPredictor_critical_depth_fidelity\"].mean(), df[\"MQTPredictor_critical_depth_critical_depth\"].mean()]"
   ]
  },
  {
   "cell_type": "code",
   "execution_count": null,
   "id": "c8d299e2",
   "metadata": {},
   "outputs": [],
   "source": [
    "print(np.round(MQT_fidelity,2))\n",
    "print(np.round(MQT_critical_depth,2))"
   ]
  },
  {
   "cell_type": "markdown",
   "id": "4c6ae124-6ca5-4d7d-87e5-eb277b813b68",
   "metadata": {},
   "source": [
    "# GHZ Evaluation"
   ]
  },
  {
   "cell_type": "code",
   "execution_count": null,
   "id": "91e19ce9-82c3-40fe-83ab-5e5310596f72",
   "metadata": {},
   "outputs": [],
   "source": [
    "df = pd.read_csv(ml.helper.get_path_trained_model() / 'res_GHZ.csv', sep=',')\n",
    "df = df[df.num_qubits<32]\n",
    "plt.rcParams[\"font.size\"] = 50"
   ]
  },
  {
   "cell_type": "code",
   "execution_count": null,
   "id": "d357af6f-5afc-4d12-ba5e-2a7f0a1f7610",
   "metadata": {},
   "outputs": [],
   "source": [
    "df['fidelity_second_highest'] = df.apply(calculate_x_highest, column_name=\"_fidelity\", index=2, axis=1)\n",
    "df['fidelity_third_highest'] = df.apply(calculate_x_highest, column_name=\"_fidelity\", index=3, axis=1)\n",
    "df['fidelity_mean'] = df.apply(calculate_mean, column_name=\"_fidelity\",axis=1)\n",
    "\n",
    "\n",
    "df['critical_depth_third_highest'] = df.apply(calculate_x_highest, column_name=\"_critical_depth\", index=3,axis=1)\n",
    "df['critical_depth_mean'] = df.apply(calculate_mean, column_name=\"_critical_depth\",axis=1)\n",
    "\n",
    "df['fidelity_min_other'] = df.apply(lambda row: row[[col for col in row.index if col.endswith('_fidelity') and 'MQT' not in col]].replace(-1, np.nan).min(skipna=True), axis=1)\n",
    "df['fidelity_max_other'] = df.apply(lambda row: row[[col for col in row.index if col.endswith('_fidelity') and 'MQT' not in col]].max(), axis=1)\n",
    "df['critical_depth_min_other'] = df.apply(lambda row: row[[col for col in row.index if col.endswith('_critical_depth') and 'MQT' not in col]].replace(-1, np.nan).min(skipna=True), axis=1)\n",
    "df['critical_depth_max_other'] = df.apply(lambda row: row[[col for col in row.index if col.endswith('_critical_depth') and 'MQT' not in col]].max(), axis=1)\n"
   ]
  },
  {
   "cell_type": "code",
   "execution_count": null,
   "id": "75ee34f6-32cb-4176-b557-962f7605ef8d",
   "metadata": {},
   "outputs": [],
   "source": [
    "plot_kind = \"line\"\n",
    "df = df.sort_values(by=['num_qubits'])\n",
    "ax = df.plot(x=\"file_path\", y=\"fidelity_max_other\", label=\"Best\", rot=90, kind=plot_kind, color=\"green\", figsize=(20,10))\n",
    "df.plot(x=\"file_path\", y=\"MQTPredictor_fidelity_fidelity\", label=\"MQT Predictor\", kind=plot_kind, rot=90, ax=ax, color=\"blue\")\n",
    "df.plot(x=\"file_path\", y=\"fidelity_third_highest\", kind=plot_kind, rot=90, ax=ax, color=\"purple\", label=\"3rd Best\")\n",
    "df.plot(x=\"file_path\", y=\"fidelity_mean\", kind=plot_kind, rot=90, ax=ax, color=\"orange\", label=\"Mean\")\n",
    "df.plot(x=\"file_path\", y=\"fidelity_min_other\", label=\"Worst\", rot=90, kind=plot_kind, ax=ax, color=\"red\")\n",
    "\n",
    "if plot_kind == \"line\":\n",
    "    plt.xticks(range(len(df.file_path)), df.file_path)\n",
    "\n",
    "plt.xticks(\n",
    "    list(range(0, len(df), 1)),\n",
    "    [df.iloc[i].num_qubits if i % 4 == 1 else \"\" for i in range(len(df))],\n",
    ")\n",
    "\n",
    "plt.xlabel(\"Benchmarks\")\n",
    "plt.ylabel(\"Critical Depth\")\n",
    "\n",
    "\n",
    "plt.savefig(\"results/fidelity_ghz_plot.pdf\", bbox_inches='tight')"
   ]
  },
  {
   "cell_type": "code",
   "execution_count": null,
   "id": "a6f1454e-dedf-421d-a347-badb32ccbb5a",
   "metadata": {},
   "outputs": [],
   "source": [
    "plot_kind = \"line\"\n",
    "df = df.sort_values(by=['num_qubits'])\n",
    "ax = df.plot(x=\"file_path\", y=\"critical_depth_max_other\", label=\"Best\", rot=90, kind=plot_kind, color=\"green\", figsize=(20,10))\n",
    "df.plot(x=\"file_path\", y=\"MQTPredictor_critical_depth_critical_depth\", kind=plot_kind, rot=90, ax=ax, color=\"blue\", label=\"MQT Predictor\")\n",
    "df.plot(x=\"file_path\", y=\"critical_depth_mean\", kind=plot_kind, rot=90, ax=ax, color=\"orange\", label=\"Mean\")\n",
    "\n",
    "if plot_kind == \"line\":\n",
    "    plt.xticks(range(len(df.file_path)), df.file_path);\n",
    "\n",
    "plt.xticks(\n",
    "    list(range(0, len(df), 1)),\n",
    "    [df.iloc[i].num_qubits if i % 4 == 1 else \"\" for i in range(len(df))],\n",
    ")\n",
    "\n",
    "plt.xlabel(\"Benchmarks\")\n",
    "plt.ylabel(\"Critical Depth\")\n",
    "\n",
    "plt.savefig(\"results/critical_depth_ghz_plot.pdf\", bbox_inches='tight')"
   ]
  },
  {
   "cell_type": "code",
   "execution_count": null,
   "id": "10fc2443-6abf-4e73-a610-03ea7d3b0a6f",
   "metadata": {},
   "outputs": [],
   "source": [
    "df = df[df.num_qubits>32]\n",
    "df = df.loc[:, df.columns[df.columns.str.endswith('_fidelity')] ]\n",
    "df"
   ]
  },
  {
   "cell_type": "code",
   "execution_count": null,
   "id": "5dc99109-bab0-4416-a07f-e3544bf82579",
   "metadata": {},
   "outputs": [],
   "source": []
  },
  {
   "cell_type": "code",
   "execution_count": null,
   "id": "ceeec48a-c576-4ff5-94cf-1d7bba2a92c4",
   "metadata": {},
   "outputs": [],
   "source": []
  }
 ],
 "metadata": {
  "kernelspec": {
   "display_name": "Python 3 (ipykernel)",
   "language": "python",
   "name": "python3"
  },
  "language_info": {
   "codemirror_mode": {
    "name": "ipython",
    "version": 3
   },
   "file_extension": ".py",
   "mimetype": "text/x-python",
   "name": "python",
   "nbconvert_exporter": "python",
   "pygments_lexer": "ipython3"
  }
 },
 "nbformat": 4,
 "nbformat_minor": 5
}
