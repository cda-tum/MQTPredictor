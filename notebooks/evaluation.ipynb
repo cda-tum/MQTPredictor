{
 "cells": [
  {
   "cell_type": "code",
   "execution_count": null,
   "id": "697e4c2b",
   "metadata": {},
   "outputs": [],
   "source": [
    "import pandas as pd\n",
    "import matplotlib.pyplot as plt\n",
    "import matplotlib as mpl\n",
    "import numpy as np\n",
    "from mqt.predictor import rl, ml\n",
    "df_backup = pd.read_csv(ml.helper.get_path_trained_model() / 'backup_230828_res.csv', sep=',')\n",
    "df_backup = df_backup.reset_index()\n",
    "df = pd.read_csv(ml.helper.get_path_trained_model() / 'res.csv', sep=',')"
   ]
  },
  {
   "cell_type": "code",
   "execution_count": null,
   "id": "b813a563-ec15-484e-aa1b-3529b94ea32a",
   "metadata": {},
   "outputs": [],
   "source": [
    "columns_to_join = [col for col in df_backup.columns if \"MQT\" not in col and col not in df.columns]\n",
    "\n",
    "df = df.join(df_backup[columns_to_join])"
   ]
  },
  {
   "cell_type": "code",
   "execution_count": null,
   "id": "de3d12f1-300c-4eca-b6bd-c4ed3ae93125",
   "metadata": {},
   "outputs": [],
   "source": [
    "df[\"benchmark_id\"]=df[\"benchmark\"].astype(str)+ \"_\" + df[\"num_qubits\"].astype(str)+ \"_\" + df[\"index\"].astype(str)"
   ]
  },
  {
   "cell_type": "markdown",
   "id": "7efb6e96-22c3-4739-b480-75d7b9a42785",
   "metadata": {},
   "source": [
    "## Add best datapoints from other compilation flows"
   ]
  },
  {
   "cell_type": "code",
   "execution_count": null,
   "id": "a26c69d1-e8c3-4d50-b669-b761e07d5b63",
   "metadata": {},
   "outputs": [],
   "source": [
    "## Add third highest data point, mean, best and worst"
   ]
  },
  {
   "cell_type": "code",
   "execution_count": null,
   "id": "76d28b11-cf2b-4286-a09a-05098b0cfd84",
   "metadata": {},
   "outputs": [],
   "source": [
    "def calculate_x_highest(row, column_name, index):\n",
    "    columns = [col for col in row.index if col.endswith(column_name) and not \"MQT\" in col]\n",
    "    values = sorted([value for col, value in row[columns].items() if value != -1], reverse=True)\n",
    "    return values[index-1] if len(values) >= 3 else None\n",
    "\n",
    "def calculate_mean(row, column_name):\n",
    "    columns = [col for col in row.index if col.endswith(column_name) and not \"MQT\" in col]\n",
    "    values = [value for col, value in row[columns].items() if value != -1]\n",
    "    return np.mean(values) if values else None\n",
    "\n",
    "df['fidelity_second_highest'] = df.apply(calculate_x_highest, column_name=\"_fidelity\", index=2, axis=1)\n",
    "df['fidelity_third_highest'] = df.apply(calculate_x_highest, column_name=\"_fidelity\", index=3, axis=1)\n",
    "df['fidelity_mean'] = df.apply(calculate_mean, column_name=\"_fidelity\",axis=1)\n",
    "\n",
    "\n",
    "df['critical_depth_third_highest'] = df.apply(calculate_x_highest, column_name=\"_critical_depth\", index=3,axis=1)\n",
    "df['critical_depth_mean'] = df.apply(calculate_mean, column_name=\"_critical_depth\",axis=1)"
   ]
  },
  {
   "cell_type": "code",
   "execution_count": null,
   "id": "00181293-891f-4d35-9d0b-197ca04c5cd8",
   "metadata": {},
   "outputs": [],
   "source": [
    "df['fidelity_min_other'] = df.apply(lambda row: row[[col for col in row.index if col.endswith('_fidelity') and 'MQT' not in col]].replace(-1, np.nan).min(skipna=True), axis=1)\n",
    "df['fidelity_max_other'] = df.apply(lambda row: row[[col for col in row.index if col.endswith('_fidelity') and 'MQT' not in col]].max(), axis=1)\n",
    "df['critical_depth_min_other'] = df.apply(lambda row: row[[col for col in row.index if col.endswith('_critical_depth') and 'MQT' not in col]].replace(-1, np.nan).min(skipna=True), axis=1)\n",
    "df['critical_depth_max_other'] = df.apply(lambda row: row[[col for col in row.index if col.endswith('_critical_depth') and 'MQT' not in col]].max(), axis=1)\n"
   ]
  },
  {
   "cell_type": "code",
   "execution_count": null,
   "id": "221a7376-c5e1-483d-ba5d-aa476ed55da0",
   "metadata": {},
   "outputs": [],
   "source": [
    "predictor = ml.Predictor()\n",
    "(X_train,\n",
    "X_test,\n",
    "y_train,\n",
    "y_test,\n",
    "indices_train,\n",
    "indices_test,\n",
    "names_list,\n",
    "scores_list) = predictor.get_prepared_training_data(figure_of_merit=\"fidelity\", save_non_zero_indices=True)\n",
    "test_benchmarks_fidelity = [names_list[index_test] for index_test in indices_test]\n",
    "df_filtered_fidelity = df[df[\"file_path\"].isin(test_benchmarks_fidelity)]"
   ]
  },
  {
   "cell_type": "code",
   "execution_count": null,
   "id": "74cea6af-5e3d-4350-9e81-004a96cf697e",
   "metadata": {},
   "outputs": [],
   "source": [
    "plot_kind = \"line\"\n",
    "df = df_filtered_fidelity.sort_values(by=['MQTPredictor_fidelity_fidelity'])\n",
    "ax = df.plot(x=\"benchmark_id\", y=\"fidelity_max_other\", label=\"max_other\", rot=90, kind=plot_kind, color=\"green\", figsize=(30,10))\n",
    "df.plot(x=\"benchmark_id\", y=\"fidelity_min_other\", label=\"min_other\", rot=90, kind=plot_kind, ax=ax, color=\"red\")\n",
    "df.plot(x=\"benchmark_id\", y=\"MQTPredictor_fidelity_fidelity\", kind=plot_kind, rot=90, ax=ax, color=\"blue\")\n",
    "df.plot(x=\"benchmark_id\", y=\"fidelity_third_highest\", kind=plot_kind, rot=90, ax=ax, color=\"purple\")\n",
    "df.plot(x=\"benchmark_id\", y=\"fidelity_second_highest\", kind=plot_kind, rot=90, ax=ax, color=\"black\")\n",
    "df.plot(x=\"benchmark_id\", y=\"fidelity_mean\", kind=plot_kind, rot=90, ax=ax, color=\"orange\")\n",
    "\n",
    "if plot_kind == \"line\":\n",
    "    plt.xticks(range(len(df.benchmark_id)), df.benchmark_id)\n",
    "plt.savefig(\"results/fidelity_plot.pdf\", bbox_inches='tight')"
   ]
  },
  {
   "cell_type": "code",
   "execution_count": null,
   "id": "11c66682-f7b6-4b6b-9ec8-35ea240d32c5",
   "metadata": {},
   "outputs": [],
   "source": [
    "predictor = ml.Predictor()\n",
    "(X_train,\n",
    "X_test,\n",
    "y_train,\n",
    "y_test,\n",
    "indices_train,\n",
    "indices_test,\n",
    "names_list,\n",
    "scores_list) = predictor.get_prepared_training_data(figure_of_merit=\"critical_depth\", save_non_zero_indices=True)\n",
    "test_benchmarks_critical_depth = [names_list[index_test] for index_test in indices_test]\n",
    "df_filtered_critical_depth = df[df[\"file_path\"].isin(test_benchmarks_critical_depth)]"
   ]
  },
  {
   "cell_type": "code",
   "execution_count": null,
   "id": "1566bcf3-397e-44ec-88e6-beb159e1b4b2",
   "metadata": {},
   "outputs": [],
   "source": [
    "plot_kind = \"scatter\"\n",
    "df = df_filtered_critical_depth.sort_values(by=['MQTPredictor_critical_depth_critical_depth'])\n",
    "ax = df.plot(x=\"benchmark_id\", y=\"critical_depth_max_other\", label=\"max_other\", rot=90, kind=plot_kind, color=\"green\", figsize=(30,10))\n",
    "df.plot(x=\"benchmark_id\", y=\"critical_depth_min_other\", label=\"min_other\", rot=90, kind=plot_kind, ax=ax, color=\"red\")\n",
    "df.plot(x=\"benchmark_id\", y=\"MQTPredictor_critical_depth_critical_depth\", kind=plot_kind, rot=90, ax=ax, color=\"blue\")\n",
    "df.plot(x=\"benchmark_id\", y=\"critical_depth_third_highest\", kind=plot_kind, rot=90, ax=ax, color=\"black\")\n",
    "df.plot(x=\"benchmark_id\", y=\"critical_depth_mean\", kind=plot_kind, rot=90, ax=ax, color=\"orange\")\n",
    "\n",
    "if plot_kind == \"line\":\n",
    "    plt.xticks(range(len(df.benchmark_id)), df.benchmark_id);\n",
    "plt.savefig(\"results/critical_depth_plot.pdf\", bbox_inches='tight')"
   ]
  },
  {
   "cell_type": "markdown",
   "id": "84b50a9c-98a9-4eb8-9d75-aae0be230d84",
   "metadata": {},
   "source": [
    "## Normalize"
   ]
  },
  {
   "cell_type": "code",
   "execution_count": null,
   "id": "6ac847e5-cc27-4018-bd9c-4debf89619e9",
   "metadata": {},
   "outputs": [],
   "source": [
    "# for index, row in df.iterrows():\n",
    "#     max_fidelity = max(row[col] for col in df.columns if col.endswith('_fidelity') and \"MQT\" not in col)\n",
    "#     for col in df.columns:\n",
    "#         if col.endswith('_fidelity'):\n",
    "#             df.at[index, col] /= max_fidelity\n",
    "\n",
    "# for index, row in df.iterrows():\n",
    "#     max_crit_depth = max(row[col] for col in df.columns if col.endswith('_critical_depth') and \"MQT\" not in col)\n",
    "#     if max_crit_depth == 0:\n",
    "#         continue\n",
    "#     for col in df.columns:\n",
    "#         if col.endswith('_critical_depth'):\n",
    "#             df.at[index, col] /= max_crit_depth"
   ]
  },
  {
   "cell_type": "markdown",
   "id": "30d4f277-6d72-45ce-946d-e58f7d800664",
   "metadata": {},
   "source": [
    "# New Evaluation Scheme"
   ]
  },
  {
   "cell_type": "code",
   "execution_count": null,
   "id": "1315376a-0616-40e7-b09f-7fe3988d14ed",
   "metadata": {},
   "outputs": [],
   "source": [
    "list_cols_fid = [x for x in df.columns if x.endswith(\"fidelity\")]"
   ]
  },
  {
   "cell_type": "code",
   "execution_count": null,
   "id": "747e3e8d-e5c7-412e-b99a-244365d91273",
   "metadata": {},
   "outputs": [],
   "source": [
    "cmap = plt.get_cmap(\"viridis\", len(list_cols_fid))\n",
    "custom_palette = [mpl.colors.rgb2hex(cmap(i)) for i in range(cmap.N)]"
   ]
  },
  {
   "cell_type": "markdown",
   "id": "516da400-0157-4925-8df6-8008beb59487",
   "metadata": {},
   "source": [
    "# New Rankings"
   ]
  },
  {
   "cell_type": "code",
   "execution_count": null,
   "id": "e649aff4-7fb8-457f-9ec8-c1cd97bbc4ea",
   "metadata": {},
   "outputs": [],
   "source": [
    "def bins_labels(bins, **kwargs):\n",
    "    bin_w = (max(bins) - min(bins)) / (len(bins) - 1)\n",
    "    plt.xticks(np.arange(min(bins)+bin_w/2, max(bins), bin_w), bins, **kwargs)\n",
    "    plt.xlim(bins[0], bins[-1])"
   ]
  },
  {
   "cell_type": "code",
   "execution_count": null,
   "id": "3a114c67-fd76-4c92-b320-fdb6e686914e",
   "metadata": {},
   "outputs": [],
   "source": [
    "df['Rank_MQT_fidelity'] = df.apply(lambda row: sum(1 for col in df.columns if col.endswith('_fidelity') and not \"MQT\" in col and row['MQTPredictor_fidelity_fidelity'] >= row[col]), axis=1)\n",
    "df['Rank_MQT_fidelity'] = len([col for col in df.columns if col.endswith('_fidelity') and not \"MQT\" in col]) - df.Rank_MQT_fidelity\n",
    "plt.hist(df.Rank_MQT_fidelity.values, bins=range(0,15,1), align=\"left\")\n",
    "plt.xticks(range(0,14,1));"
   ]
  },
  {
   "cell_type": "code",
   "execution_count": null,
   "id": "669a3b43-ab6d-4b4d-acea-263fca22ee8d",
   "metadata": {},
   "outputs": [],
   "source": [
    "len(df[df['Rank_MQT_fidelity']==0])"
   ]
  },
  {
   "cell_type": "code",
   "execution_count": null,
   "id": "71d74e70-8ec1-4ea6-a770-4726a6a04d6e",
   "metadata": {},
   "outputs": [],
   "source": [
    "df['Rank_MQT_critical_depth'] = df.apply(lambda row: sum(1 for col in df.columns if col.endswith('_critical_depth') and not \"MQT\" in col and row['MQTPredictor_critical_depth_critical_depth'] >= row[col]), axis=1)\n",
    "df['Rank_MQT_critical_depth'] = len([col for col in df.columns if col.endswith('_critical_depth') and not \"MQT\" in col]) - df.Rank_MQT_critical_depth\n",
    "plt.hist(df.Rank_MQT_critical_depth.values, bins=range(0,15,1), align=\"left\")\n",
    "plt.xticks(range(0,14,1));"
   ]
  },
  {
   "cell_type": "code",
   "execution_count": null,
   "id": "6baa9861-4e45-4b1d-86bb-22cfd6b28761",
   "metadata": {},
   "outputs": [],
   "source": [
    "len(df[df['Rank_MQT_critical_depth']==0])"
   ]
  },
  {
   "cell_type": "markdown",
   "id": "344f5c37-260f-4236-88ec-14e6808a64ac",
   "metadata": {},
   "source": [
    "# Old"
   ]
  },
  {
   "cell_type": "code",
   "execution_count": null,
   "id": "4ba4fd0f-ac7f-41c2-8e9c-9386585f620a",
   "metadata": {},
   "outputs": [],
   "source": [
    "df = pd.read_csv(ml.helper.get_path_trained_model() / 'backup_230828_res.csv', sep=',')"
   ]
  },
  {
   "cell_type": "code",
   "execution_count": null,
   "id": "ab8e287e-80fe-4a32-a236-eebf280ccc43",
   "metadata": {},
   "outputs": [],
   "source": [
    "df.MQTPredictor_fidelity_critical_depth.describe()"
   ]
  },
  {
   "cell_type": "code",
   "execution_count": null,
   "id": "92ae2b6c-a82e-425f-8835-1dff2735aa0d",
   "metadata": {},
   "outputs": [],
   "source": [
    "df.qiskit_ibm_washington_critical_depth.describe()"
   ]
  },
  {
   "cell_type": "code",
   "execution_count": null,
   "id": "212f1b35-28ba-4186-b4cc-b0c2f2ec5c1d",
   "metadata": {},
   "outputs": [],
   "source": [
    "df.tket_ibm_washington_critical_depth.describe()"
   ]
  },
  {
   "cell_type": "code",
   "execution_count": null,
   "id": "9fd90126-234c-4ed7-9be3-c738e00adb1d",
   "metadata": {},
   "outputs": [],
   "source": [
    "num_bins = 60\n",
    "color_qiskit = \"#440154\"\n",
    "color_TKET = \"#21918c\"\n",
    "size = 14\n",
    "legendsize = 12"
   ]
  },
  {
   "cell_type": "code",
   "execution_count": null,
   "id": "1b55d3d2-84f2-44e1-ae19-542ac4cb00bb",
   "metadata": {},
   "outputs": [],
   "source": [
    "df[\"MQTPredictor-Qiskit_Fid\"]=df[\"MQTPredictor_fidelity_fidelity\"]-df[\"qiskit_ibm_washington_fidelity\"]\n",
    "df[\"MQTPredictor-TKET_Fid\"]=df[\"MQTPredictor_fidelity_fidelity\"]-df[\"tket_ibm_washington_fidelity\"]"
   ]
  },
  {
   "cell_type": "code",
   "execution_count": null,
   "id": "90b60b02-e35a-4a03-a24c-45b8d63797e8",
   "metadata": {},
   "outputs": [],
   "source": [
    "df[\"MQTPredictor-Qiskit_Fid\"][df[\"MQTPredictor-Qiskit_Fid\"] > 0.0 ].count()/len(df)"
   ]
  },
  {
   "cell_type": "code",
   "execution_count": null,
   "id": "cd83df8f-e825-4c12-b9c2-3f57fede22e3",
   "metadata": {},
   "outputs": [],
   "source": [
    "df[\"MQTPredictor-TKET_Fid\"][df[\"MQTPredictor-TKET_Fid\"] > 0.0 ].count()/len(df)"
   ]
  },
  {
   "cell_type": "code",
   "execution_count": null,
   "id": "ab0daf50",
   "metadata": {},
   "outputs": [],
   "source": [
    "df[\"MQTPredictor-Qiskit_Fid\"]=df[\"MQTPredictor_fidelity_fidelity\"]-df[\"qiskit_ibm_washington_fidelity\"]\n",
    "df[\"MQTPredictor-tket_ibm_washington_Fid\"]=df[\"MQTPredictor_fidelity_fidelity\"]-df[\"tket_ibm_washington_fidelity\"]\n",
    "df[\"MQTPredictor-Qiskit_Crit_Depth\"]=df[\"MQTPredictor_critical_depth_critical_depth\"]-df[\"qiskit_ibm_washington_critical_depth\"]\n",
    "df[\"MQTPredictor-TKET_Crit_Depth\"]=df[\"MQTPredictor_critical_depth_critical_depth\"]-df[\"tket_ibm_washington_critical_depth\"]"
   ]
  },
  {
   "cell_type": "code",
   "execution_count": null,
   "id": "c5cd9290",
   "metadata": {},
   "outputs": [],
   "source": [
    "\n",
    "max_val_bench = max([df.groupby([\"benchmark\"])[\"MQTPredictor-Qiskit_Fid\"].mean().max(), \n",
    "                     df.groupby([\"benchmark\"])[\"MQTPredictor-TKET_Fid\"].mean().max(), \n",
    "                     df.groupby([\"benchmark\"])[\"MQTPredictor-Qiskit_Crit_Depth\"].mean().max(), \n",
    "                     df.groupby([\"benchmark\"])[\"MQTPredictor-TKET_Crit_Depth\"].mean().max()\n",
    "                    ]\n",
    "                     )\n",
    "min_value_bench = min([df.groupby([\"benchmark\"])[\"MQTPredictor-Qiskit_Fid\"].mean().min(),\n",
    "                      df.groupby([\"benchmark\"])[\"MQTPredictor-TKET_Fid\"].mean().min(), \n",
    "                      df.groupby([\"benchmark\"])[\"MQTPredictor-Qiskit_Crit_Depth\"].mean().min(), \n",
    "                      df.groupby([\"benchmark\"])[\"MQTPredictor-TKET_Crit_Depth\"].mean().min()])"
   ]
  },
  {
   "cell_type": "code",
   "execution_count": null,
   "id": "7f0d828d",
   "metadata": {},
   "outputs": [],
   "source": [
    "df[\"MQTPredictor-Qiskit_Fid\"][df[\"MQTPredictor-Qiskit_Fid\"] > 0.0 ].count()/len(df)"
   ]
  },
  {
   "cell_type": "code",
   "execution_count": null,
   "id": "afe491b9",
   "metadata": {},
   "outputs": [],
   "source": [
    "df[\"MQTPredictor-TKET_Fid\"][df[\"MQTPredictor-TKET_Fid\"] > 0.0 ].count()/len(df)"
   ]
  },
  {
   "cell_type": "code",
   "execution_count": null,
   "id": "b49bf4e4",
   "metadata": {},
   "outputs": [],
   "source": [
    "df[\"MQTPredictor-Qiskit_Crit_Depth\"][df[\"MQTPredictor-Qiskit_Crit_Depth\"] >= 0.0 ].count()/len(df)"
   ]
  },
  {
   "cell_type": "code",
   "execution_count": null,
   "id": "f9984f15",
   "metadata": {},
   "outputs": [],
   "source": [
    "df[\"MQTPredictor-TKET_Crit_Depth\"][df[\"MQTPredictor-TKET_Crit_Depth\"] >= 0.0 ].count()/len(df)"
   ]
  },
  {
   "cell_type": "markdown",
   "id": "8f00cd6f",
   "metadata": {},
   "source": [
    "# Expected Fidelity"
   ]
  },
  {
   "cell_type": "code",
   "execution_count": null,
   "id": "c41eb1a7",
   "metadata": {},
   "outputs": [],
   "source": [
    "max_val = max([df[\"MQTPredictor-Qiskit_Fid\"].max(), df[\"MQTPredictor-TKET_Fid\"].max(), -df[\"MQTPredictor-Qiskit_Fid\"].min(), -df[\"MQTPredictor-TKET_Fid\"].min()])\n",
    "xrange = (-max_val-(max_val)/10, max_val+(max_val)/10)\n",
    "ax = df[\"MQTPredictor-Qiskit_Fid\"].hist(bins=num_bins, alpha=0.5, range=xrange, color=color_qiskit, weights=np.ones(len(df[\"MQTPredictor-Qiskit_Fid\"])) / len(df[\"MQTPredictor-Qiskit_Fid\"]), xlabelsize=size, ylabelsize=size)\n",
    "df[\"MQTPredictor-TKET_Fid\"].hist(bins=num_bins, ax=ax, alpha=0.5, range=xrange, color=color_TKET, grid=False, weights=np.ones(len(df[\"MQTPredictor-TKET_Fid\"])) / len(df[\"MQTPredictor-TKET_Fid\"]))\n",
    "ax.set_ylabel(\"Relative frequency\", size=size)\n",
    "ax.set_xlabel(\"Absolute reward  difference\", size=size)\n",
    "ax.legend([\"compared to Qiskit\", \"compared to TKET\"], fontsize=legendsize, loc='upper right')\n",
    "ax.axvline(x=0, color= 'black', linewidth=1).get_figure().savefig('results/fidelity_hist.pdf', bbox_inches='tight')"
   ]
  },
  {
   "cell_type": "code",
   "execution_count": null,
   "id": "97a0c23a",
   "metadata": {},
   "outputs": [],
   "source": [
    "ax = df.groupby([\"benchmark\"])[\"MQTPredictor-Qiskit_Fid\"].mean().plot(kind=\"bar\", color=color_qiskit, alpha=0.5)\n",
    "df.groupby([\"benchmark\"])[\"MQTPredictor-TKET_Fid\"].mean().plot(kind=\"bar\", ax=ax, color=color_TKET, alpha=0.5)\n",
    "ax.set_ylabel(\"Average reward difference\", size=size)\n",
    "ax.set_xlabel(\"Benchmark\", size=size)\n",
    "ax.tick_params(axis='x', which='both', labelsize=size)\n",
    "ax.legend([\"compared to Qiskit\", \"compared to TKET\"], fontsize=legendsize, loc='upper right')\n",
    "#ax.set_ylim(min_value_bench-0.01, max_val_bench+0.01)\n",
    "ax.tick_params(axis='both', labelsize=size)\n",
    "ax.axhline(y=0, color= 'black', linewidth=1).get_figure().savefig('results/fidelity_bench.pdf', bbox_inches='tight')"
   ]
  },
  {
   "cell_type": "code",
   "execution_count": null,
   "id": "14834d01",
   "metadata": {},
   "outputs": [],
   "source": [
    "print(df[\"MQTPredictor-Qiskit_Fid\"].mean(), df[\"MQTPredictor-TKET_Fid\"].mean())"
   ]
  },
  {
   "cell_type": "markdown",
   "id": "e5588478",
   "metadata": {},
   "source": [
    "# Critical Depth"
   ]
  },
  {
   "cell_type": "code",
   "execution_count": null,
   "id": "c592106d",
   "metadata": {},
   "outputs": [],
   "source": [
    "max_val = max([df[\"MQTPredictor-Qiskit_Crit_Depth\"].max(), df[\"MQTPredictor-TKET_Crit_Depth\"].max(), -df[\"MQTPredictor-Qiskit_Crit_Depth\"].min(), -df[\"MQTPredictor-TKET_Crit_Depth\"].min()])\n",
    "xrange = (-max_val-(max_val)/10, max_val+(max_val)/10)\n",
    "ax = df[\"MQTPredictor-Qiskit_Crit_Depth\"].hist(bins=num_bins, alpha=0.5, range=xrange, color=color_qiskit, weights=np.ones(len(df[\"MQTPredictor-Qiskit_Crit_Depth\"])) / len(df[\"MQTPredictor-Qiskit_Crit_Depth\"]), xlabelsize=size, ylabelsize=size)\n",
    "df[\"MQTPredictor-TKET_Crit_Depth\"].hist(bins=num_bins, ax=ax, alpha=0.5, range=xrange, grid=False, color=color_TKET, weights=np.ones(len(df[\"MQTPredictor-TKET_Crit_Depth\"])) / len(df[\"MQTPredictor-TKET_Crit_Depth\"]))\n",
    "ax.set_ylabel(\"Relative frequency\", size=size)\n",
    "ax.set_xlabel(\"Absolute reward difference\", size=size)\n",
    "ax.legend([\"compared to Qiskit\", \"compared to TKET\"], fontsize=legendsize, loc='upper right')\n",
    "ax.axvline(x=0, color= 'black', linewidth=1).get_figure().savefig('results/critical_depth_hist.pdf', bbox_inches='tight')"
   ]
  },
  {
   "cell_type": "code",
   "execution_count": null,
   "id": "8db7d93e",
   "metadata": {},
   "outputs": [],
   "source": [
    "ax = df.groupby([\"benchmark\"])[\"MQTPredictor-Qiskit_Crit_Depth\"].mean().plot(kind=\"bar\", color=color_qiskit, alpha=0.5)\n",
    "df.groupby([\"benchmark\"])[\"MQTPredictor-TKET_Crit_Depth\"].mean().plot(kind=\"bar\", ax=ax, color=color_TKET, alpha=0.5)\n",
    "ax.set_ylabel(\"Average reward difference\", size=size)\n",
    "ax.set_xlabel(\"Benchmark\", size=size)\n",
    "ax.tick_params(axis='x', which='both', labelsize=size)\n",
    "ax.set_ylim(min_value_bench-0.01, max_val_bench+0.01)\n",
    "ax.tick_params(axis='both', labelsize=size)\n",
    "ax.legend([\"compared to Qiskit\", \"compared to TKET\"], fontsize=legendsize, loc='upper right')\n",
    "ax.axhline(y=0, color= 'black', linewidth=1).get_figure().savefig('results/critical_depth_bench.pdf', bbox_inches='tight')"
   ]
  },
  {
   "cell_type": "code",
   "execution_count": null,
   "id": "e7b043b4",
   "metadata": {},
   "outputs": [],
   "source": [
    "print(df[\"MQTPredictor-Qiskit_Crit_Depth\"].mean(), df[\"MQTPredictor-TKET_Crit_Depth\"].mean())"
   ]
  },
  {
   "cell_type": "markdown",
   "id": "5cd42294",
   "metadata": {},
   "source": [
    "# 2x2 Matrix With Mean Results and Optimization Criterion Comparison"
   ]
  },
  {
   "cell_type": "code",
   "execution_count": null,
   "id": "6a887a2c",
   "metadata": {},
   "outputs": [],
   "source": [
    "MQT_fidelity = [df[\"MQTPredictor_fidelity_fidelity\"].mean(),  df[\"MQTPredictor_fidelity_critical_depth\"].mean()]\n",
    "MQT_critical_depth = [df[\"MQTPredictor_critical_depth_fidelity\"].mean(), df[\"MQTPredictor_critical_depth_critical_depth\"].mean()]"
   ]
  },
  {
   "cell_type": "code",
   "execution_count": null,
   "id": "c8d299e2",
   "metadata": {},
   "outputs": [],
   "source": [
    "print(np.round(MQT_fidelity,2))\n",
    "print(np.round(MQT_critical_depth,2))"
   ]
  },
  {
   "cell_type": "code",
   "execution_count": null,
   "id": "0199bc75-e08c-4781-b7f9-b0ff3d6ca53b",
   "metadata": {},
   "outputs": [],
   "source": []
  },
  {
   "cell_type": "code",
   "execution_count": null,
   "id": "91e19ce9-82c3-40fe-83ab-5e5310596f72",
   "metadata": {},
   "outputs": [],
   "source": []
  }
 ],
 "metadata": {
  "kernelspec": {
   "display_name": "Python 3 (ipykernel)",
   "language": "python",
   "name": "python3"
  },
  "language_info": {
   "codemirror_mode": {
    "name": "ipython",
    "version": 3
   },
   "file_extension": ".py",
   "mimetype": "text/x-python",
   "name": "python",
   "nbconvert_exporter": "python",
   "pygments_lexer": "ipython3"
  }
 },
 "nbformat": 4,
 "nbformat_minor": 5
}
