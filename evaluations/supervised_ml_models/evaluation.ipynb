{
 "cells": [
  {
   "cell_type": "code",
   "execution_count": null,
   "id": "83ad31f5",
   "metadata": {},
   "outputs": [],
   "source": [
    "import matplotlib.pyplot as plt\n",
    "import networkx as nx\n",
    "import numpy as np\n",
    "import torch\n",
    "from joblib import parallel_config\n",
    "from sklearn.model_selection import GridSearchCV\n",
    "from torch_geometric.data import Dataset\n",
    "from torch_geometric.utils import to_networkx\n",
    "\n",
    "from mqt.predictor import ml\n",
    "from mqt.predictor.ml import GNNClassifier, MultiGNNClassifier\n",
    "\n",
    "predictor = ml.Predictor()\n",
    "figure_of_merit = \"critical_depth\"  # \"fidelity\"\n",
    "color1 = \"#21918c\"\n",
    "color2 = \"#440154\""
   ]
  },
  {
   "cell_type": "markdown",
   "id": "90a08fc4",
   "metadata": {},
   "source": [
    "Create training data"
   ]
  },
  {
   "cell_type": "code",
   "execution_count": null,
   "id": "ae61e305",
   "metadata": {},
   "outputs": [],
   "source": [
    "from pathlib import Path\n",
    "\n",
    "source_path = Path(\"/home/ubuntu/mqt/mqt-predictor/src/mqt/predictor/ml/training_data/training_circuits/\")\n",
    "target_path = Path(\"/home/ubuntu/mqt/mqt-predictor/src/mqt/predictor/ml/training_data/training_circuits_compiled\")\n",
    "\n",
    "# uncomment only on first run\n",
    "\n",
    "# with parallel_config(backend=\"threading\", n_jobs=-1):\n",
    "#    training_data, name_list, scores_list = predictor.generate_trainingdata_from_qasm_files(\n",
    "#        figure_of_merit, path_uncompiled_circuits=source_path, path_compiled_circuits=target_path\n",
    "#    )\n",
    "# ml.helper.save_training_data(training_data, name_list, scores_list, figure_of_merit)"
   ]
  },
  {
   "cell_type": "code",
   "execution_count": null,
   "id": "d9d2c7e5",
   "metadata": {},
   "outputs": [],
   "source": [
    "training_data = predictor.get_prepared_training_data(\n",
    "    figure_of_merit=figure_of_merit, save_non_zero_indices=True, graph_only=True\n",
    ")\n",
    "\n",
    "X_train = training_data.X_train\n",
    "X_test = training_data.X_test\n",
    "y_train = training_data.y_train\n",
    "y_test = training_data.y_test\n",
    "indices_train = training_data.indices_train\n",
    "indices_test = training_data.indices_test\n",
    "names_list = training_data.names_list\n",
    "scores_list = training_data.scores_list\n",
    "\n",
    "scores_filtered = [scores_list[i] for i in indices_test]\n",
    "names_filtered = [names_list[i] for i in indices_test]\n",
    "\n",
    "performance = []"
   ]
  },
  {
   "cell_type": "code",
   "execution_count": null,
   "id": "1068c12f",
   "metadata": {},
   "outputs": [],
   "source": [
    "def plot_hisogram(y1, y2, y1_label=\"y1\", y2_label=\"y2\"):\n",
    "    plt.figure(figsize=(10, 5))\n",
    "    plt.hist(y1, bins=30, alpha=0.5, label=y1_label)\n",
    "    plt.hist(y2, bins=30, alpha=0.5, label=y2_label)\n",
    "    plt.xlabel(\"Value\")\n",
    "    plt.ylabel(\"Frequency\")\n",
    "    plt.legend(loc=\"upper right\")\n",
    "    plt.show()\n",
    "\n",
    "\n",
    "plot_hisogram(y_train, y_test, \"y_train\", \"y_test\")"
   ]
  },
  {
   "cell_type": "markdown",
   "id": "790e1994",
   "metadata": {},
   "source": [
    "# Accuracy of a classifier that only learns probability distribution"
   ]
  },
  {
   "cell_type": "code",
   "execution_count": null,
   "id": "0a8c68f6",
   "metadata": {},
   "outputs": [],
   "source": [
    "class_counts = np.bincount(y_train)\n",
    "relative_frequencies = class_counts / len(y_train)\n",
    "\n",
    "num_iterations = 1000\n",
    "scores = []\n",
    "\n",
    "for _ in range(num_iterations):\n",
    "    # Sample instances according to the relative frequencies in y_train\n",
    "    samples = np.random.choice(7, size=len(y_test), p=relative_frequencies)\n",
    "\n",
    "    pred = torch.tensor(samples)\n",
    "    labels = torch.tensor(y_test)\n",
    "    correct = pred.eq(labels).sum().item()\n",
    "    total = len(y_test)\n",
    "    scores.append(int(correct) / total)\n",
    "\n",
    "# Calculate the average score\n",
    "average_score = sum(scores) / num_iterations\n",
    "print(average_score)"
   ]
  },
  {
   "cell_type": "code",
   "execution_count": null,
   "id": "74b29595",
   "metadata": {},
   "outputs": [],
   "source": [
    "class MyDataset(Dataset):\n",
    "    def __init__(self, data_list, scores_list, transform=None, pre_transform=None):\n",
    "        super().__init__(\".\", transform, pre_transform)\n",
    "        self.data = data_list\n",
    "        for X, score in zip(self.data, scores_list):\n",
    "            y = torch.tensor(score)\n",
    "            y[y == -1] = 0  # NOTE: score 0,1 might be easier to predict -> sigmoid\n",
    "            X.y = y.float()\n",
    "\n",
    "    @property\n",
    "    def raw_file_names(self):\n",
    "        return []\n",
    "\n",
    "    @property\n",
    "    def processed_file_names(self):\n",
    "        return []\n",
    "\n",
    "    def len(self):\n",
    "        return len(self.data)\n",
    "\n",
    "    def get(self, idx):\n",
    "        return self.data[idx]\n",
    "\n",
    "    def process(self):\n",
    "        pass\n",
    "\n",
    "\n",
    "# Create the dataset\n",
    "train_dataset = MyDataset(X_train, [scores_list[i] for i in indices_train])\n",
    "test_dataset = MyDataset(X_test, [scores_list[i] for i in indices_test])"
   ]
  },
  {
   "cell_type": "code",
   "execution_count": null,
   "id": "42359c74",
   "metadata": {},
   "outputs": [],
   "source": [
    "num2ops = {\n",
    "    0: \"u3\",\n",
    "    1: \"u2\",\n",
    "    2: \"u1\",\n",
    "    3: \"cx\",\n",
    "    4: \"id\",\n",
    "    5: \"u0\",\n",
    "    6: \"u\",\n",
    "    7: \"p\",\n",
    "    8: \"x\",\n",
    "    9: \"y\",\n",
    "    10: \"z\",\n",
    "    11: \"h\",\n",
    "    12: \"s\",\n",
    "    13: \"sdg\",\n",
    "    14: \"t\",\n",
    "    15: \"tdg\",\n",
    "    16: \"rx\",\n",
    "    17: \"ry\",\n",
    "    18: \"rz\",\n",
    "    19: \"sx\",\n",
    "    20: \"sxdg\",\n",
    "    21: \"cz\",\n",
    "    22: \"cy\",\n",
    "    23: \"swap\",\n",
    "    24: \"ch\",\n",
    "    25: \"ccx\",\n",
    "    26: \"cswap\",\n",
    "    27: \"crx\",\n",
    "    28: \"cry\",\n",
    "    29: \"crz\",\n",
    "    30: \"cu1\",\n",
    "    31: \"cp\",\n",
    "    32: \"cu3\",\n",
    "    33: \"csx\",\n",
    "    34: \"cu\",\n",
    "    35: \"rxx\",\n",
    "    36: \"rzz\",\n",
    "    37: \"rccx\",\n",
    "    38: \"rc3x\",\n",
    "    39: \"c3x\",\n",
    "    40: \"c3sqrtx\",\n",
    "    41: \"c4x\",\n",
    "    42: \"msr\",\n",
    "}"
   ]
  },
  {
   "cell_type": "code",
   "execution_count": null,
   "id": "9c1e84e1",
   "metadata": {},
   "outputs": [],
   "source": [
    "def draw_graph(data):\n",
    "    plt.figure(figsize=(10, 5))  # Create a new figure with a specified size (10x10)\n",
    "\n",
    "    G = to_networkx(data, to_undirected=True)  # Convert to a networkx graph\n",
    "    G = nx.Graph(G)  # Convert to a simple graph\n",
    "\n",
    "    # Create a dictionary of node labels\n",
    "    ops = {node: data.x[node].item() for node in G.nodes()}\n",
    "    node_labels = {node: num2ops[ops[node]] for node in G.nodes()}\n",
    "\n",
    "    # Use planar layout with specified node order\n",
    "    pos = nx.planar_layout(G)\n",
    "\n",
    "    nx.draw(G, pos, labels=node_labels, arrows=False)\n",
    "\n",
    "    edge_labels = []\n",
    "    for attr in data.edge_attr:\n",
    "        if attr == 1:\n",
    "            edge_labels += [\"ctrl\"]\n",
    "        else:\n",
    "            edge_labels += [\"target\"]\n",
    "\n",
    "    # Create a dictionary of edge labels\n",
    "    edge_labels_dict = dict(zip(G.edges(), edge_labels))\n",
    "\n",
    "    nx.draw_networkx_edge_labels(G, pos, edge_labels=edge_labels_dict)\n",
    "\n",
    "    plt.show()\n",
    "\n",
    "\n",
    "draw_graph(X_train[0])"
   ]
  },
  {
   "cell_type": "markdown",
   "id": "7bfff892",
   "metadata": {},
   "source": [
    "# GNN Classifier"
   ]
  },
  {
   "cell_type": "code",
   "execution_count": null,
   "id": "e784063c",
   "metadata": {},
   "outputs": [],
   "source": [
    "clf = GNNClassifier(\n",
    "    num_node_categories=43,  # distinct gate types (incl. 'id' and 'meas')\n",
    "    num_edge_categories=2,  # wire features (control/target)\n",
    "    output_dim=7,  # number of classes (devices)\n",
    ")\n",
    "\n",
    "param_grid = [\n",
    "    # {\n",
    "    #    \"model\": [\"TransformerConv\"],\n",
    "    #    #--------------------------------\n",
    "    #    \"optimizer\": [\"adam\"],\n",
    "    #    \"learning_rate\": [1e-3],\n",
    "    #    \"batch_size\": [32],\n",
    "    #    \"epochs\": [25],\n",
    "    #    #--------------------------------\n",
    "    #    \"node_embedding_dim\": [4],\n",
    "    #    \"edge_embedding_dim\": [None],\n",
    "    #    \"num_layers\": [4],\n",
    "    #    \"hidden_dim\": [4],\n",
    "    #    \"dropout\": [0.],\n",
    "    #    \"batch_norm\": [False],\n",
    "    #    \"activation\": [\"relu\"],\n",
    "    #    \"readout\": [\"node-attention\"],\n",
    "    #    \"heads\": [1, 2],\n",
    "    #    \"concat\": [True],\n",
    "    #    \"beta\": [False],\n",
    "    #    \"bias\": [True],\n",
    "    #    \"root_weight\": [True],\n",
    "    # },\n",
    "    {\n",
    "        \"model\": [\"GAT\"],\n",
    "        # --------------------------------\n",
    "        \"optimizer\": [\"adam\"],\n",
    "        \"learning_rate\": [1e-3],\n",
    "        \"batch_size\": [32],\n",
    "        \"epochs\": [25],\n",
    "        # --------------------------------\n",
    "        \"node_embedding_dim\": [None, 4],\n",
    "        \"edge_embedding_dim\": [None],\n",
    "        \"num_layers\": [2, 3],\n",
    "        \"hidden_dim\": [4, 8],\n",
    "        \"dropout\": [0.0, 0.33],\n",
    "        \"batch_norm\": [False, True],\n",
    "        \"activation\": [\"relu\"],\n",
    "        \"readout\": [\"node-attention\", \"feat-attention\"],\n",
    "        \"jk\": [None],\n",
    "        \"v2\": [True, False],\n",
    "    },\n",
    "]\n",
    "with parallel_config(backend=\"threading\", n_jobs=-1):\n",
    "    clf = GridSearchCV(clf, param_grid, cv=3, n_jobs=-1, verbose=3).fit(train_dataset)"
   ]
  },
  {
   "cell_type": "code",
   "execution_count": null,
   "id": "b2f6449a",
   "metadata": {},
   "outputs": [],
   "source": [
    "clf.best_params_"
   ]
  },
  {
   "cell_type": "code",
   "execution_count": null,
   "id": "f837e944",
   "metadata": {},
   "outputs": [],
   "source": [
    "clf_best_params_ = {\n",
    "    \"activation\": \"relu\",\n",
    "    \"batch_norm\": True,\n",
    "    \"batch_size\": 32,\n",
    "    \"dropout\": 0.33,\n",
    "    \"edge_embedding_dim\": None,\n",
    "    \"epochs\": 25,\n",
    "    \"hidden_dim\": 4,\n",
    "    \"jk\": None,\n",
    "    \"learning_rate\": 0.001,\n",
    "    \"model\": \"GAT\",\n",
    "    \"node_embedding_dim\": None,\n",
    "    \"num_layers\": 3,\n",
    "    \"optimizer\": \"adam\",\n",
    "    \"readout\": \"feat-attention\",\n",
    "    \"v2\": False,\n",
    "}"
   ]
  },
  {
   "cell_type": "markdown",
   "id": "6bb53bf3",
   "metadata": {},
   "source": [
    "Train GNN on most promising parameter settings"
   ]
  },
  {
   "cell_type": "code",
   "execution_count": null,
   "id": "c28f64ed",
   "metadata": {},
   "outputs": [],
   "source": [
    "best_params_ = {\n",
    "    \"optimizer\": \"adam\",\n",
    "    \"learning_rate\": 1e-3,\n",
    "    \"batch_size\": 64,\n",
    "    \"epochs\": 250,\n",
    "    \"num_node_categories\": 43,\n",
    "    \"num_edge_categories\": 2,\n",
    "    \"node_embedding_dim\": None,\n",
    "    \"edge_embedding_dim\": None,\n",
    "    \"num_layers\": 2,\n",
    "    \"hidden_dim\": 4,\n",
    "    \"output_dim\": 7,\n",
    "    \"dropout\": 0.0,\n",
    "    \"batch_norm\": False,\n",
    "    \"activation\": \"relu\",\n",
    "    \"readout\": \"node-attention\",\n",
    "    \"heads\": 2,\n",
    "    \"concat\": True,\n",
    "    \"beta\": 1.0,\n",
    "    \"bias\": False,\n",
    "    \"root_weight\": False,\n",
    "    \"model\": \"GAT\",\n",
    "    \"jk\": \"last\",\n",
    "    \"v2\": True,\n",
    "}\n",
    "\n",
    "best_params_.update({\"epochs\": 50})\n",
    "gnn = MultiGNNClassifier(**best_params_)\n",
    "\n",
    "gnn.fit(train_dataset)\n",
    "gnn.score(test_dataset)"
   ]
  },
  {
   "cell_type": "code",
   "execution_count": null,
   "id": "e511bf2d",
   "metadata": {},
   "outputs": [],
   "source": [
    "gnn.get_params()"
   ]
  },
  {
   "cell_type": "code",
   "execution_count": null,
   "id": "184629ed",
   "metadata": {},
   "outputs": [],
   "source": [
    "y_pred = np.array(list(clf.predict(test_dataset)))\n",
    "res, rel_scores = predictor.calc_performance_measures(scores_filtered, y_pred, y_test)\n",
    "predictor.plot_eval_histogram(res, filename=\"GNNClassifier\", color=color1)\n",
    "\n",
    "rel_goodness = np.round(np.mean(rel_scores), 4)\n",
    "rel_goodness_std = np.round(np.std(rel_scores), 4)\n",
    "\n",
    "print(\"Best Accuracy: \", clf.best_score_)  # averaged over N folds\n",
    "top3 = (res.count(1) + res.count(2) + res.count(3)) / len(res)\n",
    "print(\"Top 3: \", top3)\n",
    "print(\"Rel Goodness: \", rel_goodness)\n",
    "print(\"Rel Goodness Std: \", rel_goodness_std)\n",
    "performance.append((\"GNN\", clf.best_score_, top3, max(res), rel_goodness, rel_goodness_std))"
   ]
  },
  {
   "cell_type": "markdown",
   "id": "fcfd40a6",
   "metadata": {},
   "source": [
    "# GNN Classifier (one GNN for each class/device)"
   ]
  },
  {
   "cell_type": "code",
   "execution_count": null,
   "id": "d6644cee",
   "metadata": {},
   "outputs": [],
   "source": [
    "clf = MultiGNNClassifier(\n",
    "    num_node_categories=43,  # distinct gate types (incl. 'id' and 'meas')\n",
    "    num_edge_categories=2,  # wire features (control/target)\n",
    "    output_dim=7,  # number of classes (devices)\n",
    ")\n",
    "\n",
    "param_grid = {\n",
    "    \"optimizer\": [\"adam\"],\n",
    "    \"learning_rate\": [1e-3],\n",
    "    \"batch_size\": [32],\n",
    "    \"epochs\": [25],\n",
    "    \"node_embedding_dim\": [4],\n",
    "    \"edge_embedding_dim\": [None],\n",
    "    \"num_layers\": [3],\n",
    "    \"hidden_dim\": [4],\n",
    "    \"dropout\": [0.33],\n",
    "    \"batch_norm\": [True],\n",
    "    \"activation\": [\"relu\"],\n",
    "    \"readout\": [\"attention\"],\n",
    "}\n",
    "\n",
    "clf = GridSearchCV(clf, param_grid, cv=5, n_jobs=-1).fit(train_dataset)\n",
    "\n",
    "y_pred = np.array(list(clf.predict(test_dataset)))\n",
    "res, rel_scores = predictor.calc_performance_measures(scores_filtered, y_pred, y_test)\n",
    "predictor.plot_eval_histogram(res, filename=\"MLPClassifier\", color=color1)"
   ]
  },
  {
   "cell_type": "code",
   "execution_count": null,
   "id": "2df04b00",
   "metadata": {},
   "outputs": [],
   "source": [
    "rel_goodness = np.round(np.mean(rel_scores), 4)\n",
    "rel_goodness_std = np.round(np.std(rel_scores), 4)\n",
    "\n",
    "print(\"Best Accuracy: \", clf.best_score_)\n",
    "top3 = (res.count(1) + res.count(2) + res.count(3)) / len(res)\n",
    "print(\"Top 3: \", top3)\n",
    "print(\"Rel Goodness: \", rel_goodness)\n",
    "print(\"Rel Goodness Std: \", rel_goodness_std)\n",
    "performance.append((\"MultiGNN\", clf.best_score_, top3, max(res), rel_goodness, rel_goodness_std))"
   ]
  },
  {
   "cell_type": "markdown",
   "id": "5189fbc1",
   "metadata": {},
   "source": [
    "# Data Preparation"
   ]
  },
  {
   "cell_type": "code",
   "execution_count": null,
   "id": "49eeb4d9",
   "metadata": {},
   "outputs": [],
   "source": [
    "import numpy as np\n",
    "from sklearn import svm, tree\n",
    "from sklearn.ensemble import GradientBoostingClassifier, RandomForestClassifier\n",
    "from sklearn.model_selection import GridSearchCV\n",
    "from sklearn.naive_bayes import GaussianNB\n",
    "from sklearn.neighbors import KNeighborsClassifier\n",
    "from sklearn.neural_network import MLPClassifier\n",
    "\n",
    "from mqt.predictor import ml\n",
    "\n",
    "np.random.seed(10)\n",
    "\n",
    "predictor = ml.Predictor()\n",
    "figure_of_merit = \"critical_depth\"\n",
    "\n",
    "training_data = predictor.get_prepared_training_data(figure_of_merit=figure_of_merit, save_non_zero_indices=True)\n",
    "\n",
    "X_train = training_data.X_train\n",
    "X_test = training_data.X_test\n",
    "y_train = training_data.y_train\n",
    "y_test = training_data.y_test\n",
    "indices_train = training_data.indices_train\n",
    "indices_test = training_data.indices_test\n",
    "names_list = training_data.names_list\n",
    "scores_list = training_data.scores_list\n",
    "\n",
    "scores_filtered = [scores_list[i] for i in indices_test]\n",
    "names_filtered = [names_list[i] for i in indices_test]\n",
    "\n",
    "performance = []"
   ]
  },
  {
   "cell_type": "code",
   "execution_count": null,
   "id": "499d09c9",
   "metadata": {},
   "outputs": [],
   "source": [
    "color1 = \"#21918c\"\n",
    "color2 = \"#440154\""
   ]
  },
  {
   "cell_type": "code",
   "execution_count": null,
   "id": "2dddba2b-afda-4ae3-89d2-0c54b6056756",
   "metadata": {},
   "outputs": [],
   "source": [
    "print(X_train)"
   ]
  },
  {
   "cell_type": "code",
   "execution_count": null,
   "id": "be0932e5",
   "metadata": {},
   "outputs": [],
   "source": [
    "print(len(X_train), len(X_test))"
   ]
  },
  {
   "cell_type": "markdown",
   "id": "b453a219",
   "metadata": {},
   "source": [
    "# Random Forest"
   ]
  },
  {
   "cell_type": "code",
   "execution_count": null,
   "id": "e277b733",
   "metadata": {},
   "outputs": [],
   "source": [
    "clf = RandomForestClassifier(random_state=0)\n",
    "tree_param = [\n",
    "    {\n",
    "        \"n_estimators\": [100, 200, 500],\n",
    "        \"max_depth\": list(range(8, 30, 6)),\n",
    "        \"min_samples_split\": list(range(2, 20, 6)),\n",
    "        \"min_samples_leaf\": list(range(2, 20, 6)),\n",
    "        \"bootstrap\": [True, False],\n",
    "    },\n",
    "]\n",
    "clf = GridSearchCV(clf, tree_param, cv=5, n_jobs=8).fit(X_train, y_train)\n",
    "\n",
    "y_pred = np.array(list(clf.predict(X_test)))\n",
    "res, rel_scores = predictor.calc_performance_measures(scores_filtered, y_pred, y_test)\n",
    "predictor.plot_eval_histogram(res, filename=\"RandomForestClassifier\", color=color1)\n",
    "rel_goodness = np.round(np.mean(rel_scores), 4)\n",
    "rel_goodness_std = np.round(np.std(rel_scores), 4)\n",
    "print(\"Best Accuracy: \", clf.best_score_)\n",
    "top3 = (res.count(1) + res.count(2) + res.count(3)) / len(res)\n",
    "print(\"Top 3: \", top3)\n",
    "print(\"Feature Importance: \", clf.best_estimator_.feature_importances_)\n",
    "print(\"Rel Goodness: \", rel_goodness)\n",
    "print(\"Rel Goodness Std: \", rel_goodness_std)\n",
    "performance.append((\"Random Forest\", clf.best_score_, top3, max(res), rel_goodness, rel_goodness_std))"
   ]
  },
  {
   "cell_type": "code",
   "execution_count": null,
   "id": "b42c42e2",
   "metadata": {},
   "outputs": [],
   "source": [
    "predictor.plot_eval_all_detailed_compact_normed(\n",
    "    names_filtered, scores_filtered, y_pred, y_test, color_all=color1, color_pred=color2\n",
    ")"
   ]
  },
  {
   "cell_type": "code",
   "execution_count": null,
   "id": "c89553ef",
   "metadata": {},
   "outputs": [],
   "source": [
    "clf.best_estimator_.get_params()"
   ]
  },
  {
   "cell_type": "markdown",
   "id": "2ab679fa",
   "metadata": {},
   "source": [
    "### Feature Importances"
   ]
  },
  {
   "cell_type": "code",
   "execution_count": null,
   "id": "83cbaebb",
   "metadata": {},
   "outputs": [],
   "source": [
    "path = ml.helper.get_path_trained_model(figure_of_merit, return_non_zero_indices=True)\n",
    "non_zero_indices = np.load(str(path), allow_pickle=True)\n",
    "\n",
    "openqasm_qc_list = ml.helper.get_openqasm_gates()\n",
    "feature_names = [openqasm_qc_list[i] for i in range(len(openqasm_qc_list))]\n",
    "feature_names.append(\"num qubits\")\n",
    "feature_names.append(\"depth\")\n",
    "feature_names.append(\"prog. comm.\")\n",
    "feature_names.append(\"crit. dept\")\n",
    "feature_names.append(\"entang. ratio\")\n",
    "feature_names.append(\"parallelism\")\n",
    "feature_names.append(\"liveness\")\n",
    "feature_names = [feature_names[i] for i in non_zero_indices]\n",
    "\n",
    "importances = clf.best_estimator_.feature_importances_\n",
    "std = np.std([tree.feature_importances_ for tree in clf.best_estimator_.estimators_], axis=0)\n",
    "\n",
    "idx = np.argsort(-importances)\n",
    "\n",
    "plt.figure(figsize=(8, 6))\n",
    "plt.bar(np.array(feature_names)[idx], np.array(importances)[idx], color=color1, width=0.9)\n",
    "plt.errorbar(\n",
    "    np.array(feature_names)[idx],\n",
    "    np.array(importances)[idx],\n",
    "    np.array(std)[idx],\n",
    "    fmt=\"o\",\n",
    "    color=color2,\n",
    ")\n",
    "plt.xticks(rotation=90, fontsize=18)\n",
    "plt.yticks(fontsize=18)\n",
    "plt.ylabel(\"Relative feature importance\", fontsize=18)\n",
    "plt.tight_layout()\n",
    "plt.savefig(\"results/feature_importances.pdf\")\n",
    "plt.show()"
   ]
  },
  {
   "cell_type": "markdown",
   "id": "9dd88baf",
   "metadata": {},
   "source": [
    "#### Check the relative importances per feature"
   ]
  },
  {
   "cell_type": "code",
   "execution_count": null,
   "id": "00b77209",
   "metadata": {},
   "outputs": [],
   "source": [
    "summary = zip(np.array(feature_names)[idx], np.array(importances)[idx])\n",
    "for feature, importance in list(summary):\n",
    "    print(feature, np.round(importance, 3))"
   ]
  },
  {
   "cell_type": "markdown",
   "id": "4253d80e",
   "metadata": {},
   "source": [
    "# GradientBoostingClassifier"
   ]
  },
  {
   "cell_type": "code",
   "execution_count": null,
   "id": "d1aca3ec",
   "metadata": {},
   "outputs": [],
   "source": [
    "clf = GradientBoostingClassifier()\n",
    "\n",
    "param_grid = {\n",
    "    \"learning_rate\": [0.01, 0.1, 1],\n",
    "}\n",
    "\n",
    "clf = GridSearchCV(clf, param_grid, cv=5, n_jobs=8).fit(X_train, y_train)\n",
    "\n",
    "y_pred = np.array(list(clf.predict(X_test)))\n",
    "\n",
    "res, rel_scores = predictor.calc_performance_measures(scores_filtered, y_pred, y_test)\n",
    "predictor.plot_eval_histogram(res, filename=\"GradientBoostingClassifier\", color=color1)\n",
    "rel_goodness = np.round(np.mean(rel_scores), 4)\n",
    "rel_goodness_std = np.round(np.std(rel_scores), 4)\n",
    "\n",
    "print(\"Best Accuracy: \", clf.best_score_)\n",
    "top3 = (res.count(1) + res.count(2) + res.count(3)) / len(res)\n",
    "print(\"Top 3: \", top3)\n",
    "print(\"Rel Goodness: \", rel_goodness)\n",
    "print(\"Rel Goodness Std: \", rel_goodness_std)\n",
    "performance.append((\"Gradient Boosting\", clf.best_score_, top3, max(res), rel_goodness, rel_goodness_std))"
   ]
  },
  {
   "cell_type": "markdown",
   "id": "86e9aacd",
   "metadata": {},
   "source": [
    "# Decision Tree Classifier"
   ]
  },
  {
   "cell_type": "code",
   "execution_count": null,
   "id": "29f88a1e",
   "metadata": {},
   "outputs": [],
   "source": [
    "clf = tree.DecisionTreeClassifier(random_state=5)\n",
    "\n",
    "tree_param = [\n",
    "    {\n",
    "        \"criterion\": [\"entropy\", \"gini\"],\n",
    "        \"max_depth\": list(range(1, 15, 1)),\n",
    "        \"min_samples_split\": list(range(2, 20, 4)),\n",
    "        \"min_samples_leaf\": list(range(2, 20, 4)),\n",
    "        \"max_leaf_nodes\": list(range(2, 200, 40)),\n",
    "        \"max_features\": list(range(1, len(non_zero_indices), 10)),\n",
    "    },\n",
    "]\n",
    "clf = GridSearchCV(clf, tree_param, cv=5, n_jobs=8).fit(X_train, y_train)\n",
    "y_pred = np.array(list(clf.predict(X_test)))\n",
    "res, rel_scores = predictor.calc_performance_measures(scores_filtered, y_pred, y_test)\n",
    "predictor.plot_eval_histogram(res, filename=\"DecisionTreeClassifier\", color=color1)\n",
    "rel_goodness = np.round(np.mean(rel_scores), 4)\n",
    "rel_goodness_std = np.round(np.std(rel_scores), 4)\n",
    "\n",
    "print(\"Best Accuracy: \", clf.best_score_)\n",
    "top3 = (res.count(1) + res.count(2) + res.count(3)) / len(res)\n",
    "print(\"Top 3: \", top3)\n",
    "print(\"Rel Goodness: \", rel_goodness)\n",
    "print(\"Rel Goodness Std: \", rel_goodness_std)\n",
    "print(\"Feature Importance: \", clf.best_estimator_.feature_importances_)\n",
    "performance.append((\"Decision Tree\", clf.best_score_, top3, max(res), rel_goodness, rel_goodness_std))"
   ]
  },
  {
   "cell_type": "markdown",
   "id": "6e0b7f2a",
   "metadata": {},
   "source": [
    "# Nearest Neighbor"
   ]
  },
  {
   "cell_type": "code",
   "execution_count": null,
   "id": "257a9f1a",
   "metadata": {},
   "outputs": [],
   "source": [
    "clf = KNeighborsClassifier()\n",
    "param_grid = {\"n_neighbors\": range(1, 10, 1)}\n",
    "clf = GridSearchCV(clf, param_grid, cv=5, n_jobs=8).fit(X_train, y_train)\n",
    "\n",
    "y_pred = np.array(list(clf.predict(X_test)))\n",
    "res, rel_scores = predictor.calc_performance_measures(scores_filtered, y_pred, y_test)\n",
    "predictor.plot_eval_histogram(res, filename=\"KNeighborsClassifier\", color=color1)\n",
    "rel_goodness = np.round(np.mean(rel_scores), 4)\n",
    "rel_goodness_std = np.round(np.std(rel_scores), 4)\n",
    "\n",
    "print(\"Best Accuracy: \", clf.best_score_)\n",
    "top3 = (res.count(1) + res.count(2) + res.count(3)) / len(res)\n",
    "print(\"Top 3: \", top3)\n",
    "print(\"Rel Goodness: \", rel_goodness)\n",
    "print(\"Rel Goodness Std: \", rel_goodness_std)\n",
    "performance.append((\"Nearest Neighbor\", clf.best_score_, top3, max(res), rel_goodness, rel_goodness_std))"
   ]
  },
  {
   "cell_type": "markdown",
   "id": "7a215cbd",
   "metadata": {},
   "source": [
    "# MLPClassifier"
   ]
  },
  {
   "cell_type": "code",
   "execution_count": null,
   "id": "263e19e4",
   "metadata": {},
   "outputs": [],
   "source": [
    "clf = MLPClassifier(max_iter=1000)\n",
    "\n",
    "param_grid = {\n",
    "    \"hidden_layer_sizes\": [(50, 50, 50), (50, 100, 50), (100,)],\n",
    "    \"activation\": [\"tanh\", \"relu\"],\n",
    "    \"solver\": [\"sgd\", \"adam\"],\n",
    "    \"alpha\": [0.0001, 0.05],\n",
    "    \"learning_rate\": [\"constant\", \"adaptive\"],\n",
    "}\n",
    "\n",
    "clf = GridSearchCV(clf, param_grid, cv=5, n_jobs=8).fit(X_train, y_train)\n",
    "\n",
    "y_pred = np.array(list(clf.predict(X_test)))\n",
    "res, rel_scores = predictor.calc_performance_measures(scores_filtered, y_pred, y_test)\n",
    "predictor.plot_eval_histogram(res, filename=\"MLPClassifier\", color=color1)\n",
    "rel_goodness = np.round(np.mean(rel_scores), 4)\n",
    "rel_goodness_std = np.round(np.std(rel_scores), 4)\n",
    "\n",
    "print(\"Best Accuracy: \", clf.best_score_)\n",
    "top3 = (res.count(1) + res.count(2) + res.count(3)) / len(res)\n",
    "print(\"Top 3: \", top3)\n",
    "print(\"Rel Goodness: \", rel_goodness)\n",
    "print(\"Rel Goodness Std: \", rel_goodness_std)\n",
    "performance.append((\"Multilayer Perceptron\", clf.best_score_, top3, max(res), rel_goodness, rel_goodness_std))"
   ]
  },
  {
   "cell_type": "markdown",
   "id": "769e7f1a",
   "metadata": {},
   "source": [
    "# SVM"
   ]
  },
  {
   "cell_type": "code",
   "execution_count": null,
   "id": "bb259b07",
   "metadata": {},
   "outputs": [],
   "source": [
    "clf = svm.SVC()\n",
    "param_grid = {\"C\": [0.1, 1, 10], \"gamma\": [1, 0.1, 0.01], \"kernel\": [\"rbf\", \"sigmoid\"]}\n",
    "clf = GridSearchCV(clf, param_grid, cv=5, n_jobs=8).fit(X_train, y_train)\n",
    "\n",
    "y_pred = np.array(list(clf.predict(X_test)))\n",
    "res, rel_scores = predictor.calc_performance_measures(scores_filtered, y_pred, y_test)\n",
    "predictor.plot_eval_histogram(res, filename=\"SVM\", color=color1)\n",
    "rel_goodness = np.round(np.mean(rel_scores), 4)\n",
    "rel_goodness_std = np.round(np.std(rel_scores), 4)\n",
    "\n",
    "print(\"Best Accuracy: \", clf.best_score_)\n",
    "top3 = (res.count(1) + res.count(2) + res.count(3)) / len(res)\n",
    "print(\"Top 3: \", top3)\n",
    "print(\"Rel Goodness: \", rel_goodness)\n",
    "print(\"Rel Goodness Std: \", rel_goodness_std)\n",
    "performance.append((\"Support Vector Machine\", clf.best_score_, top3, max(res), rel_goodness, rel_goodness_std))"
   ]
  },
  {
   "cell_type": "markdown",
   "id": "5dbac0a1",
   "metadata": {},
   "source": [
    "# Naive Bayes"
   ]
  },
  {
   "cell_type": "code",
   "execution_count": null,
   "id": "04146e9d",
   "metadata": {},
   "outputs": [],
   "source": [
    "clf = GaussianNB()\n",
    "param_grid = {\"var_smoothing\": np.logspace(0, -9, num=100)}\n",
    "clf = GridSearchCV(clf, param_grid, cv=5, n_jobs=8).fit(X_train, y_train)\n",
    "\n",
    "y_pred = np.array(list(clf.predict(X_test)))\n",
    "res, rel_scores = predictor.calc_performance_measures(scores_filtered, y_pred, y_test)\n",
    "predictor.plot_eval_histogram(res, filename=\"GaussianNB\", color=color1)\n",
    "rel_goodness = np.round(np.mean(rel_scores), 4)\n",
    "rel_goodness_std = np.round(np.std(rel_scores), 4)\n",
    "\n",
    "print(\"Best Accuracy: \", clf.best_score_)\n",
    "top3 = (res.count(1) + res.count(2) + res.count(3)) / len(res)\n",
    "print(\"Top 3: \", top3)\n",
    "print(\"Rel Goodness: \", rel_goodness)\n",
    "print(\"Rel Goodness Std: \", rel_goodness_std)\n",
    "performance.append((\"Naive Bayes\", clf.best_score_, top3, max(res), rel_goodness, rel_goodness_std))"
   ]
  },
  {
   "cell_type": "markdown",
   "id": "1a5ea3c3",
   "metadata": {},
   "source": [
    "# Save Performance Results"
   ]
  },
  {
   "cell_type": "code",
   "execution_count": null,
   "id": "0e522a40",
   "metadata": {},
   "outputs": [],
   "source": [
    "print(performance)\n",
    "from pathlib import Path\n",
    "\n",
    "file = Path(\"results/performances_\" + figure_of_merit + \".csv\")\n",
    "with file.open(\"w\") as f:\n",
    "    f.write(\"Classifier, Accuracy, Top3, Worst Rank, Eval. Score Diff., Std\\n\")\n",
    "    for sublist in performance:\n",
    "        line = f\"{sublist[0]}, {sublist[1]}, {sublist[2]}, {sublist[3]}, {sublist[4]}, {sublist[5]} \\n\"\n",
    "        f.write(line)"
   ]
  }
 ],
 "metadata": {
  "kernelspec": {
   "display_name": "Python 3 (ipykernel)",
   "language": "python",
   "name": "python3"
  },
  "language_info": {
   "codemirror_mode": {
    "name": "ipython",
    "version": 3
   },
   "file_extension": ".py",
   "mimetype": "text/x-python",
   "name": "python",
   "nbconvert_exporter": "python",
   "pygments_lexer": "ipython3"
  }
 },
 "nbformat": 4,
 "nbformat_minor": 5
}
