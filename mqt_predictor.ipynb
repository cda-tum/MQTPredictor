{
 "cells": [
  {
   "cell_type": "markdown",
   "id": "d7a71c62",
   "metadata": {},
   "source": [
    "# Workflow Debugging"
   ]
  },
  {
   "cell_type": "code",
   "execution_count": null,
   "id": "7e9a4d52",
   "metadata": {
    "scrolled": true
   },
   "outputs": [],
   "source": [
    "from predictor.driver import Predictor\n",
    "from predictor.src import utils\n",
    "\n",
    "import numpy as np\n",
    "\n",
    "from sklearn import preprocessing\n",
    "from sklearn.model_selection import train_test_split\n",
    "\n",
    "\n",
    "(\n",
    "    training_data,\n",
    "    names_list,\n",
    "    scores_list,\n",
    ") = Predictor.generate_trainingdata_from_qasm_files(\n",
    "    folder_path=\"qasm_files/\"  # , compiled_path=\"qasm_compiled_postprocessed/\"\n",
    ")"
   ]
  },
  {
   "cell_type": "code",
   "execution_count": null,
   "id": "a0f5d7cd",
   "metadata": {},
   "outputs": [],
   "source": [
    "X, y = zip(*training_data)\n",
    "Predictor.train_decision_tree_classifier(X, y, names_list, scores_list);"
   ]
  },
  {
   "cell_type": "code",
   "execution_count": null,
   "id": "d7bca9b9",
   "metadata": {},
   "outputs": [],
   "source": [
    "from numpy import asarray\n",
    "from numpy import save\n",
    "\n",
    "data = asarray(training_data)\n",
    "save(\"training_data.npy\", data)\n",
    "data = asarray(names_list)\n",
    "save(\"names_list.npy\", data)\n",
    "data = asarray(scores_list)\n",
    "save(\"scores_list.npy\", data)"
   ]
  },
  {
   "cell_type": "code",
   "execution_count": null,
   "id": "219a87a3",
   "metadata": {},
   "outputs": [],
   "source": [
    "from numpy import asarray\n",
    "from numpy import save\n",
    "from predictor.driver import Predictor\n",
    "from predictor.src import utils\n",
    "\n",
    "import numpy as np\n",
    "\n",
    "from sklearn import preprocessing\n",
    "from sklearn.model_selection import train_test_split\n",
    "\n",
    "training_data = np.load(\"training_data.npy\", allow_pickle=True)\n",
    "\n",
    "names_list = list(np.load(\"names_list.npy\", allow_pickle=True))\n",
    "\n",
    "scores_list = list(np.load(\"scores_list.npy\", allow_pickle=True))\n",
    "X, y = zip(*training_data)\n",
    "X = list(X)\n",
    "y = list(y)\n",
    "for i in range(len(X)):\n",
    "    X[i] = list(X[i])\n",
    "    scores_list[i] = list(scores_list[i])"
   ]
  },
  {
   "cell_type": "code",
   "execution_count": null,
   "id": "8bf9322e",
   "metadata": {},
   "outputs": [],
   "source": [
    "Predictor.train_decision_tree_classifier(X, y, names_list, scores_list);"
   ]
  },
  {
   "cell_type": "markdown",
   "id": "73fbb78f",
   "metadata": {},
   "source": [
    "# Decision Path Generation"
   ]
  },
  {
   "cell_type": "code",
   "execution_count": null,
   "id": "cfc733a8",
   "metadata": {},
   "outputs": [],
   "source": [
    "names_list[30]"
   ]
  },
  {
   "cell_type": "code",
   "execution_count": null,
   "id": "bd5b2842",
   "metadata": {},
   "outputs": [],
   "source": [
    "non_zero_indices = []\n",
    "X = np.array(X)\n",
    "y = np.array(y)\n",
    "for i in range(len(X[0])):\n",
    "    if sum(X[:, i]) > 0:\n",
    "        non_zero_indices.append(i)\n",
    "X = X[:, non_zero_indices]\n",
    "\n",
    "openqasm_qc_list = utils.get_openqasm_gates()\n",
    "res = [openqasm_qc_list[i] for i in range(0, len(openqasm_qc_list))]\n",
    "res.append(\"num_qubits\")\n",
    "res.append(\"depth\")\n",
    "for i in range(1, 6):\n",
    "    res.append(str(i) + \"_max_interactions\")\n",
    "\n",
    "res = [res[i] for i in non_zero_indices]\n",
    "index = 30\n",
    "X_test = X[[index]]\n",
    "\n",
    "clf_instance = Predictor._clf.best_estimator_\n",
    "n_nodes = clf_instance.tree_.node_count\n",
    "children_left = clf_instance.tree_.children_left\n",
    "children_right = clf_instance.tree_.children_right\n",
    "feature = clf_instance.tree_.feature\n",
    "threshold = clf_instance.tree_.threshold\n",
    "node_indicator = clf_instance.decision_path(X_test)\n",
    "leaf_id = clf_instance.apply(X_test)\n",
    "\n",
    "sample_id = 0\n",
    "# obtain ids of the nodes `sample_id` goes through, i.e., row `sample_id`\n",
    "node_index = node_indicator.indices[\n",
    "    node_indicator.indptr[sample_id] : node_indicator.indptr[sample_id + 1]\n",
    "]\n",
    "\n",
    "print(\"Rules used to predict sample {id}:\\n\".format(id=sample_id))\n",
    "for node_id in node_index:\n",
    "    # continue to the next node if it is a leaf node\n",
    "    if leaf_id[sample_id] == node_id:\n",
    "        continue\n",
    "    # check if value of the split feature for sample 0 is below threshold\n",
    "    if X_test[sample_id, feature[node_id]] <= threshold[node_id]:\n",
    "        threshold_sign = \"<=\"\n",
    "    else:\n",
    "        threshold_sign = \">\"\n",
    "\n",
    "    print(\n",
    "        \"decision node {node} : (X_test[{sample}, {feature}] = {value}) \"\n",
    "        \"{inequality} {threshold})\".format(\n",
    "            node=node_id,\n",
    "            sample=sample_id,\n",
    "            feature=res[feature[node_id]],\n",
    "            value=X_test[sample_id, feature[node_id]],\n",
    "            inequality=threshold_sign,\n",
    "            threshold=threshold[node_id],\n",
    "        )\n",
    "    )\n",
    "print(\"Prediction: \", clf_instance.predict(X_test))"
   ]
  },
  {
   "cell_type": "code",
   "execution_count": null,
   "id": "6cebeb21",
   "metadata": {},
   "outputs": [],
   "source": [
    "(\n",
    "    X_train,\n",
    "    X_test,\n",
    "    y_train,\n",
    "    y_test,\n",
    ") = train_test_split(X, y, test_size=0.3, random_state=5)\n",
    "for i in range(19):\n",
    "    print(y_test.count(i), utils.get_machines()[i])"
   ]
  },
  {
   "cell_type": "code",
   "execution_count": null,
   "id": "7d69dcb0",
   "metadata": {},
   "outputs": [],
   "source": [
    "print(node_indicator)"
   ]
  },
  {
   "cell_type": "markdown",
   "id": "1efc3821",
   "metadata": {},
   "source": [
    "# Debugging"
   ]
  },
  {
   "cell_type": "code",
   "execution_count": null,
   "id": "fe7be83c",
   "metadata": {},
   "outputs": [],
   "source": [
    "machines = utils.get_machines()\n",
    "[machines[i] for i in list(Predictor._clf.classes_)]"
   ]
  },
  {
   "cell_type": "code",
   "execution_count": null,
   "id": "dc3c2462",
   "metadata": {},
   "outputs": [],
   "source": [
    "from qiskit import QuantumCircuit\n",
    "from mqt.bench import get_one_benchmark\n",
    "\n",
    "qc = get_one_benchmark(\"ghz\", 1, 5)"
   ]
  },
  {
   "cell_type": "markdown",
   "id": "a405592f",
   "metadata": {},
   "source": [
    "# Nachbehandlung OQC qasm files"
   ]
  },
  {
   "cell_type": "code",
   "execution_count": null,
   "id": "24d2f4d4",
   "metadata": {},
   "outputs": [],
   "source": [
    "import os\n",
    "from qiskit import QuantumCircuit\n",
    "\n",
    "directory = \"qasm_compiled\"\n",
    "for filename in os.listdir(directory):\n",
    "    f = os.path.join(directory, filename)\n",
    "    # checking if it is a file\n",
    "    if \"oqc_qiskit\" in f:\n",
    "        with open(f, \"r\") as f:\n",
    "            lines = f.readlines()\n",
    "        new_name = os.path.join(\"qasm_compiled_postprocessed\", filename)\n",
    "        with open(new_name, \"w\") as f:\n",
    "            for line in lines:\n",
    "                if not (\n",
    "                    \"gate rzx\" in line.strip(\"\\n\") or \"gate ecr\" in line.strip(\"\\n\")\n",
    "                ):\n",
    "                    f.write(line)\n",
    "                if \"gate ecr\" in line.strip(\"\\n\"):\n",
    "                    f.write(\n",
    "                        \"gate rzx(param0) q0,q1 { h q1; cx q0,q1; rz(param0) q1; cx q0,q1; h q1; }\\n\"\n",
    "                    )\n",
    "                    f.write(\n",
    "                        \"gate ecr q0,q1 { rzx(pi/4) q0,q1; x q0; rzx(-pi/4) q0,q1; }\\n\"\n",
    "                    )\n",
    "\n",
    "        qc = QuantumCircuit.from_qasm_file(new_name)\n",
    "        print(\"New qasm file for: \", new_name)\n",
    "\n",
    "    elif \"oqc_tket\" in f:\n",
    "        with open(f, \"r\") as f:\n",
    "            lines = f.readlines()\n",
    "        new_name = os.path.join(\"qasm_compiled_postprocessed\", filename)\n",
    "        with open(new_name, \"w\") as f:\n",
    "            count = 0\n",
    "            for line in lines:\n",
    "                f.write(line)\n",
    "                count += 1\n",
    "                if count == 2:\n",
    "                    f.write(\n",
    "                        \"gate rzx(param0) q0,q1 { h q1; cx q0,q1; rz(param0) q1; cx q0,q1; h q1; }\\n\"\n",
    "                    )\n",
    "                    f.write(\n",
    "                        \"gate ecr q0,q1 { rzx(pi/4) q0,q1; x q0; rzx(-pi/4) q0,q1; }\\n\"\n",
    "                    )\n",
    "        qc = QuantumCircuit.from_qasm_file(new_name)\n",
    "        print(\"New qasm file for: \", new_name)"
   ]
  },
  {
   "cell_type": "markdown",
   "id": "188b5999",
   "metadata": {},
   "source": [
    "# Nachbehandlung: Check if File is readable at all"
   ]
  },
  {
   "cell_type": "code",
   "execution_count": null,
   "id": "92011a35",
   "metadata": {},
   "outputs": [],
   "source": [
    "import os\n",
    "from qiskit import QuantumCircuit\n",
    "\n",
    "directory = \"qasm_compiled\"\n",
    "for filename in os.listdir(directory):\n",
    "    f = os.path.join(directory, filename)\n",
    "    if f.endswith(\".qasm\"):\n",
    "        try:\n",
    "            qc = QuantumCircuit.from_qasm_file(f)\n",
    "        except Exception as e:\n",
    "            print(\"Fail: \", e)\n",
    "            # Delete file: os.remove(f)"
   ]
  },
  {
   "cell_type": "code",
   "execution_count": null,
   "id": "698c1ebf",
   "metadata": {},
   "outputs": [],
   "source": [
    "import glob\n",
    "\n",
    "files = glob.glob(\"qasm_compiled/ae_indep_2_*\")\n",
    "print(files)"
   ]
  },
  {
   "cell_type": "code",
   "execution_count": null,
   "id": "c3c5bf9f",
   "metadata": {},
   "outputs": [],
   "source": [
    "np.median([i for i in range(1, 20)])"
   ]
  },
  {
   "cell_type": "markdown",
   "id": "145d2c49",
   "metadata": {},
   "source": [
    "# Debugging MQT Bench Integration"
   ]
  },
  {
   "cell_type": "code",
   "execution_count": 1,
   "id": "58694dd5",
   "metadata": {},
   "outputs": [
    {
     "name": "stdout",
     "output_type": "stream",
     "text": [
      "./comp_test/test0.qasm\n",
      "./comp_test/test1.qasm\n",
      "./comp_test/test2.qasm\n",
      "./comp_test/test3.qasm\n",
      "./comp_test/test4.qasm\n",
      "./comp_test/test5.qasm\n",
      "./comp_test/test6.qasm\n",
      "./comp_test/test7.qasm\n",
      "./comp_test/test8.qasm\n",
      "./comp_test/test9.qasm\n",
      "./comp_test/test10.qasm\n",
      "./comp_test/test11.qasm\n",
      "./comp_test/test12.qasm\n",
      "./comp_test/test13.qasm\n",
      "./comp_test/test14.qasm\n",
      "./comp_test/test15.qasm\n",
      "./comp_test/test16.qasm\n",
      "./comp_test/test17.qasm\n",
      "./comp_test/test18.qasm\n",
      "./comp_test/test19.qasm\n",
      "./comp_test/test20.qasm\n",
      "./comp_test/test21.qasm\n",
      "./comp_test/test22.qasm\n",
      "./comp_test/test23.qasm\n",
      "./comp_test/test24.qasm\n",
      "./comp_test/test25.qasm\n",
      "./comp_test/test26.qasm\n",
      "./comp_test/test27.qasm\n",
      "./comp_test/test28.qasm\n",
      "./comp_test/test29.qasm\n"
     ]
    },
    {
     "data": {
      "text/plain": [
       "True"
      ]
     },
     "execution_count": 1,
     "metadata": {},
     "output_type": "execute_result"
    }
   ],
   "source": [
    "from predictor.driver import Predictor\n",
    "from mqt.bench import get_one_benchmark\n",
    "from qiskit import QuantumCircuit\n",
    "\n",
    "qc = get_one_benchmark(\"dj\", 1, 3)\n",
    "QuantumCircuit.qasm(qc, filename=\"test.qasm\")\n",
    "Predictor.compile_all_circuits_for_qc(\"test.qasm\", \"./comp_test\")"
   ]
  },
  {
   "cell_type": "code",
   "execution_count": null,
   "id": "c5130785",
   "metadata": {},
   "outputs": [],
   "source": [
    "from distutils.sysconfig import get_python_lib\n",
    "\n",
    "print(get_python_lib())"
   ]
  },
  {
   "cell_type": "code",
   "execution_count": null,
   "id": "166bc36c",
   "metadata": {},
   "outputs": [],
   "source": []
  }
 ],
 "metadata": {
  "kernelspec": {
   "display_name": "Python 3 (ipykernel)",
   "language": "python",
   "name": "python3"
  },
  "language_info": {
   "codemirror_mode": {
    "name": "ipython",
    "version": 3
   },
   "file_extension": ".py",
   "mimetype": "text/x-python",
   "name": "python",
   "nbconvert_exporter": "python",
   "pygments_lexer": "ipython3",
   "version": "3.9.7"
  }
 },
 "nbformat": 4,
 "nbformat_minor": 5
}
